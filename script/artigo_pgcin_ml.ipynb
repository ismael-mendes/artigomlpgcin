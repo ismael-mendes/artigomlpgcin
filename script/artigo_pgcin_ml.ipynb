{
  "nbformat": 4,
  "nbformat_minor": 0,
  "metadata": {
    "colab": {
      "name": "Artigo PGCIN ML.ipynb",
      "provenance": [],
      "collapsed_sections": [
        "H04Aihk5ae2h",
        "xHIwMa5fTuBj",
        "EQxuu7y5rzRm",
        "nA_PAFySY_n5",
        "JkjxYQdiEDFX",
        "74TJmApQuIR0",
        "TgI83du0qmFM"
      ],
      "toc_visible": true
    },
    "kernelspec": {
      "name": "python3",
      "display_name": "Python 3"
    }
  },
  "cells": [
    {
      "cell_type": "markdown",
      "metadata": {
        "id": "H04Aihk5ae2h"
      },
      "source": [
        "# Importação de dados"
      ]
    },
    {
      "cell_type": "code",
      "metadata": {
        "id": "FHP2tSLeHEIZ"
      },
      "source": [
        "#importar as bibliotecas\n",
        "import numpy as np\n",
        "import matplotlib.pyplot as plt\n",
        "import pandas as pd\n",
        "from collections import OrderedDict "
      ],
      "execution_count": null,
      "outputs": []
    },
    {
      "cell_type": "markdown",
      "metadata": {
        "id": "mBwEgS17ahde"
      },
      "source": [
        ""
      ]
    },
    {
      "cell_type": "code",
      "metadata": {
        "colab": {
          "base_uri": "https://localhost:8080/"
        },
        "id": "ow3LMfQ5PMbb",
        "outputId": "568375c9-ce8e-48a4-fc02-3c7d73342450"
      },
      "source": [
        "#carrega o dataset\n",
        "dataset = pd.read_excel('/content/drive/MyDrive/PGCIN-UFSC/PCI410068 Machine Learning e Deep Learning/bibliometrics_database.xlsx')\n",
        "dataset.head(2)"
      ],
      "execution_count": null,
      "outputs": [
        {
          "output_type": "execute_result",
          "data": {
            "text/html": [
              "<div>\n",
              "<style scoped>\n",
              "    .dataframe tbody tr th:only-of-type {\n",
              "        vertical-align: middle;\n",
              "    }\n",
              "\n",
              "    .dataframe tbody tr th {\n",
              "        vertical-align: top;\n",
              "    }\n",
              "\n",
              "    .dataframe thead th {\n",
              "        text-align: right;\n",
              "    }\n",
              "</style>\n",
              "<table border=\"1\" class=\"dataframe\">\n",
              "  <thead>\n",
              "    <tr style=\"text-align: right;\">\n",
              "      <th></th>\n",
              "      <th>Publication Type</th>\n",
              "      <th>Authors</th>\n",
              "      <th>Book Authors</th>\n",
              "      <th>Book Editors</th>\n",
              "      <th>Book Group Authors</th>\n",
              "      <th>Author Full Names</th>\n",
              "      <th>Book Author Full Names</th>\n",
              "      <th>Group Authors</th>\n",
              "      <th>Article Title</th>\n",
              "      <th>Source Title</th>\n",
              "      <th>Book Series Title</th>\n",
              "      <th>Book Series Subtitle</th>\n",
              "      <th>Language</th>\n",
              "      <th>Document Type</th>\n",
              "      <th>Conference Title</th>\n",
              "      <th>Conference Date</th>\n",
              "      <th>Conference Location</th>\n",
              "      <th>Conference Sponsor</th>\n",
              "      <th>Conference Host</th>\n",
              "      <th>Author Keywords</th>\n",
              "      <th>Keywords Plus</th>\n",
              "      <th>Abstract</th>\n",
              "      <th>Addresses</th>\n",
              "      <th>Reprint Addresses</th>\n",
              "      <th>Email Addresses</th>\n",
              "      <th>Researcher Ids</th>\n",
              "      <th>ORCIDs</th>\n",
              "      <th>Funding Orgs</th>\n",
              "      <th>Funding Text</th>\n",
              "      <th>Cited References</th>\n",
              "      <th>Cited Reference Count</th>\n",
              "      <th>Times Cited, WoS Core</th>\n",
              "      <th>Times Cited, All Databases</th>\n",
              "      <th>180 Day Usage Count</th>\n",
              "      <th>Since 2013 Usage Count</th>\n",
              "      <th>Publisher</th>\n",
              "      <th>Publisher City</th>\n",
              "      <th>Publisher Address</th>\n",
              "      <th>ISSN</th>\n",
              "      <th>eISSN</th>\n",
              "      <th>ISBN</th>\n",
              "      <th>Journal Abbreviation</th>\n",
              "      <th>Journal ISO Abbreviation</th>\n",
              "      <th>Publication Date</th>\n",
              "      <th>Publication Year</th>\n",
              "      <th>Volume</th>\n",
              "      <th>Issue</th>\n",
              "      <th>Part Number</th>\n",
              "      <th>Supplement</th>\n",
              "      <th>Special Issue</th>\n",
              "      <th>Meeting Abstract</th>\n",
              "      <th>Start Page</th>\n",
              "      <th>End Page</th>\n",
              "      <th>Article Number</th>\n",
              "      <th>DOI</th>\n",
              "      <th>Book DOI</th>\n",
              "      <th>Early Access Date</th>\n",
              "      <th>Number of Pages</th>\n",
              "      <th>WoS Categories</th>\n",
              "      <th>Research Areas</th>\n",
              "      <th>IDS Number</th>\n",
              "      <th>UT (Unique WOS ID)</th>\n",
              "      <th>Pubmed Id</th>\n",
              "      <th>Open Access Designations</th>\n",
              "      <th>Highly Cited Status</th>\n",
              "      <th>Hot Paper Status</th>\n",
              "      <th>Date of Export</th>\n",
              "      <th>Unnamed: 67</th>\n",
              "    </tr>\n",
              "  </thead>\n",
              "  <tbody>\n",
              "    <tr>\n",
              "      <th>0</th>\n",
              "      <td>J</td>\n",
              "      <td>Du, CF; Cohoon, J; Lopez, P; Howison, J</td>\n",
              "      <td>NaN</td>\n",
              "      <td>NaN</td>\n",
              "      <td>NaN</td>\n",
              "      <td>Du, Caifan; Cohoon, Johanna; Lopez, Patrice; H...</td>\n",
              "      <td>NaN</td>\n",
              "      <td>NaN</td>\n",
              "      <td>Softcite dataset: A dataset of software mentio...</td>\n",
              "      <td>JOURNAL OF THE ASSOCIATION FOR INFORMATION SCI...</td>\n",
              "      <td>NaN</td>\n",
              "      <td>NaN</td>\n",
              "      <td>English</td>\n",
              "      <td>Article; Early Access</td>\n",
              "      <td>NaN</td>\n",
              "      <td>NaN</td>\n",
              "      <td>NaN</td>\n",
              "      <td>NaN</td>\n",
              "      <td>NaN</td>\n",
              "      <td>NaN</td>\n",
              "      <td>NaN</td>\n",
              "      <td>Software contributions to academic research ar...</td>\n",
              "      <td>[Du, Caifan; Cohoon, Johanna; Howison, James] ...</td>\n",
              "      <td>Du, CF (corresponding author), Univ Texas Aust...</td>\n",
              "      <td>cfdu@utexas.edu</td>\n",
              "      <td>NaN</td>\n",
              "      <td>NaN</td>\n",
              "      <td>Alfred P. Sloan FoundationAlfred P. Sloan Foun...</td>\n",
              "      <td>Alfred P. Sloan Foundation, Grant/Award Number...</td>\n",
              "      <td>NaN</td>\n",
              "      <td>62</td>\n",
              "      <td>0</td>\n",
              "      <td>0</td>\n",
              "      <td>0</td>\n",
              "      <td>0</td>\n",
              "      <td>WILEY</td>\n",
              "      <td>HOBOKEN</td>\n",
              "      <td>111 RIVER ST, HOBOKEN 07030-5774, NJ USA</td>\n",
              "      <td>2330-1635</td>\n",
              "      <td>2330-1643</td>\n",
              "      <td>NaN</td>\n",
              "      <td>J ASSOC INF SCI TECH</td>\n",
              "      <td>NaN</td>\n",
              "      <td>NaN</td>\n",
              "      <td>NaN</td>\n",
              "      <td>NaN</td>\n",
              "      <td>NaN</td>\n",
              "      <td>NaN</td>\n",
              "      <td>NaN</td>\n",
              "      <td>NaN</td>\n",
              "      <td>NaN</td>\n",
              "      <td>NaN</td>\n",
              "      <td>NaN</td>\n",
              "      <td>NaN</td>\n",
              "      <td>10.1002/asi.24454</td>\n",
              "      <td>NaN</td>\n",
              "      <td>FEB 2021</td>\n",
              "      <td>15</td>\n",
              "      <td>Computer Science, Information Systems; Informa...</td>\n",
              "      <td>Computer Science; Information Science &amp; Librar...</td>\n",
              "      <td>QB0WM</td>\n",
              "      <td>WOS:000613863100001</td>\n",
              "      <td>NaN</td>\n",
              "      <td>NaN</td>\n",
              "      <td>NaN</td>\n",
              "      <td>NaN</td>\n",
              "      <td>2021-02-17</td>\n",
              "      <td>NaN</td>\n",
              "    </tr>\n",
              "    <tr>\n",
              "      <th>1</th>\n",
              "      <td>J</td>\n",
              "      <td>Szuflita-Zurawska, M; Basinska, BA</td>\n",
              "      <td>NaN</td>\n",
              "      <td>NaN</td>\n",
              "      <td>NaN</td>\n",
              "      <td>Szuflita-Zurawska, Magdalena; Basinska, Beata A.</td>\n",
              "      <td>NaN</td>\n",
              "      <td>NaN</td>\n",
              "      <td>Visegrad countries' scientific productivity in...</td>\n",
              "      <td>LEARNED PUBLISHING</td>\n",
              "      <td>NaN</td>\n",
              "      <td>NaN</td>\n",
              "      <td>English</td>\n",
              "      <td>Article; Early Access</td>\n",
              "      <td>NaN</td>\n",
              "      <td>NaN</td>\n",
              "      <td>NaN</td>\n",
              "      <td>NaN</td>\n",
              "      <td>NaN</td>\n",
              "      <td>scientific productivity; higher education; bib...</td>\n",
              "      <td>NaN</td>\n",
              "      <td>Measuring the growth of research productivity ...</td>\n",
              "      <td>[Szuflita-Zurawska, Magdalena; Basinska, Beata...</td>\n",
              "      <td>Szuflita-Zurawska, M (corresponding author), G...</td>\n",
              "      <td>magdalena.szuflita@pg.edu.pl</td>\n",
              "      <td>NaN</td>\n",
              "      <td>NaN</td>\n",
              "      <td>National Science Centre, PolandNational Scienc...</td>\n",
              "      <td>We thank all reviewers and the editor-in-chief...</td>\n",
              "      <td>NaN</td>\n",
              "      <td>43</td>\n",
              "      <td>0</td>\n",
              "      <td>0</td>\n",
              "      <td>0</td>\n",
              "      <td>0</td>\n",
              "      <td>WILEY</td>\n",
              "      <td>HOBOKEN</td>\n",
              "      <td>111 RIVER ST, HOBOKEN 07030-5774, NJ USA</td>\n",
              "      <td>0953-1513</td>\n",
              "      <td>1741-4857</td>\n",
              "      <td>NaN</td>\n",
              "      <td>LEARN PUBL</td>\n",
              "      <td>Learn. Publ.</td>\n",
              "      <td>NaN</td>\n",
              "      <td>NaN</td>\n",
              "      <td>NaN</td>\n",
              "      <td>NaN</td>\n",
              "      <td>NaN</td>\n",
              "      <td>NaN</td>\n",
              "      <td>NaN</td>\n",
              "      <td>NaN</td>\n",
              "      <td>NaN</td>\n",
              "      <td>NaN</td>\n",
              "      <td>NaN</td>\n",
              "      <td>10.1002/leap.1370</td>\n",
              "      <td>NaN</td>\n",
              "      <td>FEB 2021</td>\n",
              "      <td>11</td>\n",
              "      <td>Information Science &amp; Library Science</td>\n",
              "      <td>Information Science &amp; Library Science</td>\n",
              "      <td>QA2TA</td>\n",
              "      <td>WOS:000613299800001</td>\n",
              "      <td>NaN</td>\n",
              "      <td>NaN</td>\n",
              "      <td>NaN</td>\n",
              "      <td>NaN</td>\n",
              "      <td>2021-02-17</td>\n",
              "      <td>NaN</td>\n",
              "    </tr>\n",
              "  </tbody>\n",
              "</table>\n",
              "</div>"
            ],
            "text/plain": [
              "  Publication Type  ... Unnamed: 67\n",
              "0                J  ...         NaN\n",
              "1                J  ...         NaN\n",
              "\n",
              "[2 rows x 68 columns]"
            ]
          },
          "metadata": {
            "tags": []
          },
          "execution_count": 6
        }
      ]
    },
    {
      "cell_type": "markdown",
      "metadata": {
        "id": "xHIwMa5fTuBj"
      },
      "source": [
        "# Tratamento dos dados"
      ]
    },
    {
      "cell_type": "code",
      "metadata": {
        "colab": {
          "base_uri": "https://localhost:8080/"
        },
        "id": "ZYNie2athqWD",
        "outputId": "5a6a43f7-3fa7-44a1-fdf9-9f205fcc1f5e"
      },
      "source": [
        "#elimina primeiro do dataset os registros sem a data de publicação e os três outliers (+ de )\n",
        "dataset = dataset.sort_values('Publication Year', ascending=0)\n",
        "dataset = dataset.drop(dataset[dataset['Publication Year'].isnull()].index)\n",
        "dataset = dataset.reset_index()\n",
        "dataset.head(3)"
      ],
      "execution_count": null,
      "outputs": [
        {
          "output_type": "execute_result",
          "data": {
            "text/html": [
              "<div>\n",
              "<style scoped>\n",
              "    .dataframe tbody tr th:only-of-type {\n",
              "        vertical-align: middle;\n",
              "    }\n",
              "\n",
              "    .dataframe tbody tr th {\n",
              "        vertical-align: top;\n",
              "    }\n",
              "\n",
              "    .dataframe thead th {\n",
              "        text-align: right;\n",
              "    }\n",
              "</style>\n",
              "<table border=\"1\" class=\"dataframe\">\n",
              "  <thead>\n",
              "    <tr style=\"text-align: right;\">\n",
              "      <th></th>\n",
              "      <th>index</th>\n",
              "      <th>Publication Type</th>\n",
              "      <th>Authors</th>\n",
              "      <th>Book Authors</th>\n",
              "      <th>Book Editors</th>\n",
              "      <th>Book Group Authors</th>\n",
              "      <th>Author Full Names</th>\n",
              "      <th>Book Author Full Names</th>\n",
              "      <th>Group Authors</th>\n",
              "      <th>Article Title</th>\n",
              "      <th>Source Title</th>\n",
              "      <th>Book Series Title</th>\n",
              "      <th>Book Series Subtitle</th>\n",
              "      <th>Language</th>\n",
              "      <th>Document Type</th>\n",
              "      <th>Conference Title</th>\n",
              "      <th>Conference Date</th>\n",
              "      <th>Conference Location</th>\n",
              "      <th>Conference Sponsor</th>\n",
              "      <th>Conference Host</th>\n",
              "      <th>Author Keywords</th>\n",
              "      <th>Keywords Plus</th>\n",
              "      <th>Abstract</th>\n",
              "      <th>Addresses</th>\n",
              "      <th>Reprint Addresses</th>\n",
              "      <th>Email Addresses</th>\n",
              "      <th>Researcher Ids</th>\n",
              "      <th>ORCIDs</th>\n",
              "      <th>Funding Orgs</th>\n",
              "      <th>Funding Text</th>\n",
              "      <th>Cited References</th>\n",
              "      <th>Cited Reference Count</th>\n",
              "      <th>Times Cited, WoS Core</th>\n",
              "      <th>Times Cited, All Databases</th>\n",
              "      <th>180 Day Usage Count</th>\n",
              "      <th>Since 2013 Usage Count</th>\n",
              "      <th>Publisher</th>\n",
              "      <th>Publisher City</th>\n",
              "      <th>Publisher Address</th>\n",
              "      <th>ISSN</th>\n",
              "      <th>eISSN</th>\n",
              "      <th>ISBN</th>\n",
              "      <th>Journal Abbreviation</th>\n",
              "      <th>Journal ISO Abbreviation</th>\n",
              "      <th>Publication Date</th>\n",
              "      <th>Publication Year</th>\n",
              "      <th>Volume</th>\n",
              "      <th>Issue</th>\n",
              "      <th>Part Number</th>\n",
              "      <th>Supplement</th>\n",
              "      <th>Special Issue</th>\n",
              "      <th>Meeting Abstract</th>\n",
              "      <th>Start Page</th>\n",
              "      <th>End Page</th>\n",
              "      <th>Article Number</th>\n",
              "      <th>DOI</th>\n",
              "      <th>Book DOI</th>\n",
              "      <th>Early Access Date</th>\n",
              "      <th>Number of Pages</th>\n",
              "      <th>WoS Categories</th>\n",
              "      <th>Research Areas</th>\n",
              "      <th>IDS Number</th>\n",
              "      <th>UT (Unique WOS ID)</th>\n",
              "      <th>Pubmed Id</th>\n",
              "      <th>Open Access Designations</th>\n",
              "      <th>Highly Cited Status</th>\n",
              "      <th>Hot Paper Status</th>\n",
              "      <th>Date of Export</th>\n",
              "      <th>Unnamed: 67</th>\n",
              "    </tr>\n",
              "  </thead>\n",
              "  <tbody>\n",
              "    <tr>\n",
              "      <th>0</th>\n",
              "      <td>14</td>\n",
              "      <td>J</td>\n",
              "      <td>Reichmann, G; Schlogl, C; Thalmann, S</td>\n",
              "      <td>NaN</td>\n",
              "      <td>NaN</td>\n",
              "      <td>NaN</td>\n",
              "      <td>Reichmann, Gerhard; Schloegl, Christian; Thalm...</td>\n",
              "      <td>NaN</td>\n",
              "      <td>NaN</td>\n",
              "      <td>The Institute for Information Science at the U...</td>\n",
              "      <td>INFORMATION-WISSENSCHAFT UND PRAXIS</td>\n",
              "      <td>NaN</td>\n",
              "      <td>NaN</td>\n",
              "      <td>German</td>\n",
              "      <td>Article</td>\n",
              "      <td>NaN</td>\n",
              "      <td>NaN</td>\n",
              "      <td>NaN</td>\n",
              "      <td>NaN</td>\n",
              "      <td>NaN</td>\n",
              "      <td>University of Graz; Institute for Information ...</td>\n",
              "      <td>LIBRARY</td>\n",
              "      <td>The history of the Institute for Information S...</td>\n",
              "      <td>[Reichmann, Gerhard; Schloegl, Christian; Thal...</td>\n",
              "      <td>Reichmann, G (corresponding author), Karl Fran...</td>\n",
              "      <td>gerhard.reichmann@uni-graz.at; christian.schlo...</td>\n",
              "      <td>NaN</td>\n",
              "      <td>NaN</td>\n",
              "      <td>NaN</td>\n",
              "      <td>NaN</td>\n",
              "      <td>NaN</td>\n",
              "      <td>36</td>\n",
              "      <td>0</td>\n",
              "      <td>0</td>\n",
              "      <td>0</td>\n",
              "      <td>0</td>\n",
              "      <td>WALTER DE GRUYTER GMBH</td>\n",
              "      <td>BERLIN</td>\n",
              "      <td>GENTHINER STRASSE 13, D-10785 BERLIN, GERMANY</td>\n",
              "      <td>1434-4653</td>\n",
              "      <td>1619-4292</td>\n",
              "      <td>NaN</td>\n",
              "      <td>INFORM-WISS PRAX</td>\n",
              "      <td>Inform.-Wiss. Prax.</td>\n",
              "      <td>JAN</td>\n",
              "      <td>2021.0</td>\n",
              "      <td>72.0</td>\n",
              "      <td>1</td>\n",
              "      <td>NaN</td>\n",
              "      <td>NaN</td>\n",
              "      <td>NaN</td>\n",
              "      <td>NaN</td>\n",
              "      <td>1</td>\n",
              "      <td>9</td>\n",
              "      <td>NaN</td>\n",
              "      <td>10.1515/iwp-2020-2132</td>\n",
              "      <td>NaN</td>\n",
              "      <td>NaN</td>\n",
              "      <td>9</td>\n",
              "      <td>Computer Science, Information Systems; Informa...</td>\n",
              "      <td>Computer Science; Information Science &amp; Librar...</td>\n",
              "      <td>PT6MP</td>\n",
              "      <td>WOS:000608727900001</td>\n",
              "      <td>NaN</td>\n",
              "      <td>Bronze</td>\n",
              "      <td>NaN</td>\n",
              "      <td>NaN</td>\n",
              "      <td>2021-02-17</td>\n",
              "      <td>NaN</td>\n",
              "    </tr>\n",
              "    <tr>\n",
              "      <th>1</th>\n",
              "      <td>42</td>\n",
              "      <td>J</td>\n",
              "      <td>Marchiori, DM; Popadiuk, S; Mainardes, EW; Rod...</td>\n",
              "      <td>NaN</td>\n",
              "      <td>NaN</td>\n",
              "      <td>NaN</td>\n",
              "      <td>Marchiori, Danilo Magno; Popadiuk, Silvio; Mai...</td>\n",
              "      <td>NaN</td>\n",
              "      <td>NaN</td>\n",
              "      <td>Innovativeness: a bibliometric vision of the c...</td>\n",
              "      <td>SCIENTOMETRICS</td>\n",
              "      <td>NaN</td>\n",
              "      <td>NaN</td>\n",
              "      <td>English</td>\n",
              "      <td>Article</td>\n",
              "      <td>NaN</td>\n",
              "      <td>NaN</td>\n",
              "      <td>NaN</td>\n",
              "      <td>NaN</td>\n",
              "      <td>NaN</td>\n",
              "      <td>Innovativeness; Co-citations; Bibliographic co...</td>\n",
              "      <td>RESEARCH-AND-DEVELOPMENT; ENTREPRENEURIAL ORIE...</td>\n",
              "      <td>The literature on the theme of innovativeness ...</td>\n",
              "      <td>[Marchiori, Danilo Magno; Popadiuk, Silvio; Ma...</td>\n",
              "      <td>Marchiori, DM (corresponding author), Univ Bei...</td>\n",
              "      <td>danilo.marchiori@gmail.com</td>\n",
              "      <td>Rodrigues, Ricardo Gouveia/A-7722-2010; POPADI...</td>\n",
              "      <td>Rodrigues, Ricardo Gouveia/0000-0001-6382-5147...</td>\n",
              "      <td>NaN</td>\n",
              "      <td>NaN</td>\n",
              "      <td>NaN</td>\n",
              "      <td>140</td>\n",
              "      <td>0</td>\n",
              "      <td>0</td>\n",
              "      <td>29</td>\n",
              "      <td>29</td>\n",
              "      <td>SPRINGER</td>\n",
              "      <td>DORDRECHT</td>\n",
              "      <td>VAN GODEWIJCKSTRAAT 30, 3311 GZ DORDRECHT, NET...</td>\n",
              "      <td>0138-9130</td>\n",
              "      <td>1588-2861</td>\n",
              "      <td>NaN</td>\n",
              "      <td>SCIENTOMETRICS</td>\n",
              "      <td>Scientometrics</td>\n",
              "      <td>JAN</td>\n",
              "      <td>2021.0</td>\n",
              "      <td>126.0</td>\n",
              "      <td>1</td>\n",
              "      <td>NaN</td>\n",
              "      <td>NaN</td>\n",
              "      <td>NaN</td>\n",
              "      <td>NaN</td>\n",
              "      <td>55</td>\n",
              "      <td>92</td>\n",
              "      <td>NaN</td>\n",
              "      <td>10.1007/s11192-020-03753-6</td>\n",
              "      <td>NaN</td>\n",
              "      <td>NOV 2020</td>\n",
              "      <td>38</td>\n",
              "      <td>Computer Science, Interdisciplinary Applicatio...</td>\n",
              "      <td>Computer Science; Information Science &amp; Librar...</td>\n",
              "      <td>PU7XL</td>\n",
              "      <td>WOS:000584966800001</td>\n",
              "      <td>NaN</td>\n",
              "      <td>NaN</td>\n",
              "      <td>NaN</td>\n",
              "      <td>NaN</td>\n",
              "      <td>2021-02-17</td>\n",
              "      <td>NaN</td>\n",
              "    </tr>\n",
              "    <tr>\n",
              "      <th>2</th>\n",
              "      <td>44</td>\n",
              "      <td>J</td>\n",
              "      <td>Vahdati, S; Fathalla, S; Lange, C; Behrend, A;...</td>\n",
              "      <td>NaN</td>\n",
              "      <td>NaN</td>\n",
              "      <td>NaN</td>\n",
              "      <td>Vahdati, Sahar; Fathalla, Said; Lange, Christo...</td>\n",
              "      <td>NaN</td>\n",
              "      <td>NaN</td>\n",
              "      <td>A comprehensive quality assessment framework f...</td>\n",
              "      <td>SCIENTOMETRICS</td>\n",
              "      <td>NaN</td>\n",
              "      <td>NaN</td>\n",
              "      <td>English</td>\n",
              "      <td>Article</td>\n",
              "      <td>NaN</td>\n",
              "      <td>NaN</td>\n",
              "      <td>NaN</td>\n",
              "      <td>NaN</td>\n",
              "      <td>NaN</td>\n",
              "      <td>Recommendation; Scientific events; Quality ass...</td>\n",
              "      <td>SEMANTIC PUBLISHING CHALLENGE; ARTICLES</td>\n",
              "      <td>Systematic assessment of scientific events has...</td>\n",
              "      <td>[Vahdati, Sahar] Univ Oxford, Dept Comp Sci, O...</td>\n",
              "      <td>Vahdati, S (corresponding author), Univ Oxford...</td>\n",
              "      <td>sahar.vandati@cs.ox.ac.uk; sm_fathalla@alex-sc...</td>\n",
              "      <td>NaN</td>\n",
              "      <td>NaN</td>\n",
              "      <td>DFGGerman Research Foundation (DFG) [LA 3745/4...</td>\n",
              "      <td>Open Access funding enabled and organized by P...</td>\n",
              "      <td>NaN</td>\n",
              "      <td>48</td>\n",
              "      <td>0</td>\n",
              "      <td>0</td>\n",
              "      <td>7</td>\n",
              "      <td>7</td>\n",
              "      <td>SPRINGER</td>\n",
              "      <td>DORDRECHT</td>\n",
              "      <td>VAN GODEWIJCKSTRAAT 30, 3311 GZ DORDRECHT, NET...</td>\n",
              "      <td>0138-9130</td>\n",
              "      <td>1588-2861</td>\n",
              "      <td>NaN</td>\n",
              "      <td>SCIENTOMETRICS</td>\n",
              "      <td>Scientometrics</td>\n",
              "      <td>JAN</td>\n",
              "      <td>2021.0</td>\n",
              "      <td>126.0</td>\n",
              "      <td>1</td>\n",
              "      <td>NaN</td>\n",
              "      <td>NaN</td>\n",
              "      <td>NaN</td>\n",
              "      <td>NaN</td>\n",
              "      <td>641</td>\n",
              "      <td>682</td>\n",
              "      <td>NaN</td>\n",
              "      <td>10.1007/s11192-020-03758-1</td>\n",
              "      <td>NaN</td>\n",
              "      <td>NOV 2020</td>\n",
              "      <td>42</td>\n",
              "      <td>Computer Science, Interdisciplinary Applicatio...</td>\n",
              "      <td>Computer Science; Information Science &amp; Librar...</td>\n",
              "      <td>PU7XL</td>\n",
              "      <td>WOS:000584966800002</td>\n",
              "      <td>33169040.0</td>\n",
              "      <td>Other Gold, Green Published</td>\n",
              "      <td>NaN</td>\n",
              "      <td>NaN</td>\n",
              "      <td>2021-02-17</td>\n",
              "      <td>NaN</td>\n",
              "    </tr>\n",
              "  </tbody>\n",
              "</table>\n",
              "</div>"
            ],
            "text/plain": [
              "   index Publication Type  ... Date of Export  Unnamed: 67\n",
              "0     14                J  ...     2021-02-17          NaN\n",
              "1     42                J  ...     2021-02-17          NaN\n",
              "2     44                J  ...     2021-02-17          NaN\n",
              "\n",
              "[3 rows x 69 columns]"
            ]
          },
          "metadata": {
            "tags": []
          },
          "execution_count": 7
        }
      ]
    },
    {
      "cell_type": "code",
      "metadata": {
        "colab": {
          "base_uri": "https://localhost:8080/"
        },
        "id": "04aWE0jUam1P",
        "outputId": "5c25e52a-8762-42ad-df79-96f2f97d7817"
      },
      "source": [
        "#a variável dependente será o número médio de citações por ano (citation count) ao invés da contagem de citações (Times Cited, All Databases)\n",
        "ano = 2021 - dataset['Publication Year']\n",
        "ano = ano.replace(0,1)\n",
        "tc = dataset.iloc[:,32:33]\n",
        "tc = tc.to_numpy()\n",
        "\n",
        "Y = [] \n",
        "i = 0\n",
        "while (i < len(ano)): \n",
        "        Y.append(tc[i]//ano[i])\n",
        "        i+=1\n",
        "\n",
        "Y = pd.DataFrame(Y)\n",
        "Y.columns = ['Citation Count']\n",
        "Y#.head(3)"
      ],
      "execution_count": null,
      "outputs": [
        {
          "output_type": "execute_result",
          "data": {
            "text/html": [
              "<div>\n",
              "<style scoped>\n",
              "    .dataframe tbody tr th:only-of-type {\n",
              "        vertical-align: middle;\n",
              "    }\n",
              "\n",
              "    .dataframe tbody tr th {\n",
              "        vertical-align: top;\n",
              "    }\n",
              "\n",
              "    .dataframe thead th {\n",
              "        text-align: right;\n",
              "    }\n",
              "</style>\n",
              "<table border=\"1\" class=\"dataframe\">\n",
              "  <thead>\n",
              "    <tr style=\"text-align: right;\">\n",
              "      <th></th>\n",
              "      <th>Citation Count</th>\n",
              "    </tr>\n",
              "  </thead>\n",
              "  <tbody>\n",
              "    <tr>\n",
              "      <th>0</th>\n",
              "      <td>0.0</td>\n",
              "    </tr>\n",
              "    <tr>\n",
              "      <th>1</th>\n",
              "      <td>0.0</td>\n",
              "    </tr>\n",
              "    <tr>\n",
              "      <th>2</th>\n",
              "      <td>0.0</td>\n",
              "    </tr>\n",
              "    <tr>\n",
              "      <th>3</th>\n",
              "      <td>0.0</td>\n",
              "    </tr>\n",
              "    <tr>\n",
              "      <th>4</th>\n",
              "      <td>0.0</td>\n",
              "    </tr>\n",
              "    <tr>\n",
              "      <th>...</th>\n",
              "      <td>...</td>\n",
              "    </tr>\n",
              "    <tr>\n",
              "      <th>3095</th>\n",
              "      <td>2.0</td>\n",
              "    </tr>\n",
              "    <tr>\n",
              "      <th>3096</th>\n",
              "      <td>1.0</td>\n",
              "    </tr>\n",
              "    <tr>\n",
              "      <th>3097</th>\n",
              "      <td>8.0</td>\n",
              "    </tr>\n",
              "    <tr>\n",
              "      <th>3098</th>\n",
              "      <td>0.0</td>\n",
              "    </tr>\n",
              "    <tr>\n",
              "      <th>3099</th>\n",
              "      <td>0.0</td>\n",
              "    </tr>\n",
              "  </tbody>\n",
              "</table>\n",
              "<p>3100 rows × 1 columns</p>\n",
              "</div>"
            ],
            "text/plain": [
              "      Citation Count\n",
              "0                0.0\n",
              "1                0.0\n",
              "2                0.0\n",
              "3                0.0\n",
              "4                0.0\n",
              "...              ...\n",
              "3095             2.0\n",
              "3096             1.0\n",
              "3097             8.0\n",
              "3098             0.0\n",
              "3099             0.0\n",
              "\n",
              "[3100 rows x 1 columns]"
            ]
          },
          "metadata": {
            "tags": []
          },
          "execution_count": 8
        }
      ]
    },
    {
      "cell_type": "code",
      "metadata": {
        "colab": {
          "base_uri": "https://localhost:8080/"
        },
        "id": "pSMtilQXbkqg",
        "outputId": "1f9a5f1b-d7c5-408e-a20a-1067f6b43805"
      },
      "source": [
        "#contagem de autores e nome do autor (Author Full Names)\n",
        "autores = dataset.iloc[:,6:7]\n",
        "\n",
        "X1 = pd.DataFrame(autores['Author Full Names'].str.split(';').str.len()) #conta os autores por quantidade de ; + 1\n",
        "X1.columns = ['Number of authors']\n",
        "X1.head(3)\n"
      ],
      "execution_count": null,
      "outputs": [
        {
          "output_type": "execute_result",
          "data": {
            "text/html": [
              "<div>\n",
              "<style scoped>\n",
              "    .dataframe tbody tr th:only-of-type {\n",
              "        vertical-align: middle;\n",
              "    }\n",
              "\n",
              "    .dataframe tbody tr th {\n",
              "        vertical-align: top;\n",
              "    }\n",
              "\n",
              "    .dataframe thead th {\n",
              "        text-align: right;\n",
              "    }\n",
              "</style>\n",
              "<table border=\"1\" class=\"dataframe\">\n",
              "  <thead>\n",
              "    <tr style=\"text-align: right;\">\n",
              "      <th></th>\n",
              "      <th>Number of authors</th>\n",
              "    </tr>\n",
              "  </thead>\n",
              "  <tbody>\n",
              "    <tr>\n",
              "      <th>0</th>\n",
              "      <td>3</td>\n",
              "    </tr>\n",
              "    <tr>\n",
              "      <th>1</th>\n",
              "      <td>4</td>\n",
              "    </tr>\n",
              "    <tr>\n",
              "      <th>2</th>\n",
              "      <td>7</td>\n",
              "    </tr>\n",
              "  </tbody>\n",
              "</table>\n",
              "</div>"
            ],
            "text/plain": [
              "   Number of authors\n",
              "0                  3\n",
              "1                  4\n",
              "2                  7"
            ]
          },
          "metadata": {
            "tags": []
          },
          "execution_count": 9
        }
      ]
    },
    {
      "cell_type": "code",
      "metadata": {
        "colab": {
          "base_uri": "https://localhost:8080/"
        },
        "id": "jWS5N2nxCcwu",
        "outputId": "944245aa-262f-4c7a-9c55-d03461e1f1eb"
      },
      "source": [
        "autores2 = autores['Author Full Names'].str.split(';', expand=True) #divide os autores em colunas\n",
        "#autores2\n",
        "\n",
        "lista = pd.Series(autores2.values.ravel('F')) #reorganiza o array em uma coluna só\n",
        "lista.sort_values(0,inplace=True, ascending=True,ignore_index=True) #ordena os valores em ordem alfabética resetando o index\n",
        "lista = pd.unique(lista).tolist() #remove os nomes duplicados\n",
        "#lista\n",
        "\n",
        "busca = autores2[0].tolist() #gera uma lista apenas com o primeiro autor\n",
        "#busca\n",
        "\n",
        "#armazena o index da lista de autores a partir do índice localizado na lista dos nomes dos primeiros autores\n",
        "X2 = [] \n",
        "i = 0\n",
        "while (i < len(busca)): \n",
        "    if (lista.count(busca[i]) > 0): \n",
        "        k = lista.index(busca[i])\n",
        "        X2.append(k) \n",
        "    else:\n",
        "        X2.append(None)\n",
        "    i += 1\n",
        "\n",
        "X2 = pd.DataFrame(X2)\n",
        "X2.columns = ['First Author Position']\n",
        "X2.head(3)\n",
        "\n"
      ],
      "execution_count": null,
      "outputs": [
        {
          "output_type": "execute_result",
          "data": {
            "text/html": [
              "<div>\n",
              "<style scoped>\n",
              "    .dataframe tbody tr th:only-of-type {\n",
              "        vertical-align: middle;\n",
              "    }\n",
              "\n",
              "    .dataframe tbody tr th {\n",
              "        vertical-align: top;\n",
              "    }\n",
              "\n",
              "    .dataframe thead th {\n",
              "        text-align: right;\n",
              "    }\n",
              "</style>\n",
              "<table border=\"1\" class=\"dataframe\">\n",
              "  <thead>\n",
              "    <tr style=\"text-align: right;\">\n",
              "      <th></th>\n",
              "      <th>First Author Position</th>\n",
              "    </tr>\n",
              "  </thead>\n",
              "  <tbody>\n",
              "    <tr>\n",
              "      <th>0</th>\n",
              "      <td>5163</td>\n",
              "    </tr>\n",
              "    <tr>\n",
              "      <th>1</th>\n",
              "      <td>4833</td>\n",
              "    </tr>\n",
              "    <tr>\n",
              "      <th>2</th>\n",
              "      <td>5452</td>\n",
              "    </tr>\n",
              "  </tbody>\n",
              "</table>\n",
              "</div>"
            ],
            "text/plain": [
              "   First Author Position\n",
              "0                   5163\n",
              "1                   4833\n",
              "2                   5452"
            ]
          },
          "metadata": {
            "tags": []
          },
          "execution_count": 10
        }
      ]
    },
    {
      "cell_type": "code",
      "metadata": {
        "colab": {
          "base_uri": "https://localhost:8080/"
        },
        "id": "TEj2nAofkEyl",
        "outputId": "868efabd-0c8f-49b5-fbcd-8963536c4fa0"
      },
      "source": [
        "#Número de palavras no título (Article Title)\n",
        "titulos = dataset.iloc[:,9:10]\n",
        "titulos\n",
        "\n",
        "\n",
        "X3 = pd.DataFrame(titulos['Article Title'].str.split().str.len())\n",
        "X3.columns = ['Number of title words']\n",
        "X3.head(3)\n"
      ],
      "execution_count": null,
      "outputs": [
        {
          "output_type": "execute_result",
          "data": {
            "text/html": [
              "<div>\n",
              "<style scoped>\n",
              "    .dataframe tbody tr th:only-of-type {\n",
              "        vertical-align: middle;\n",
              "    }\n",
              "\n",
              "    .dataframe tbody tr th {\n",
              "        vertical-align: top;\n",
              "    }\n",
              "\n",
              "    .dataframe thead th {\n",
              "        text-align: right;\n",
              "    }\n",
              "</style>\n",
              "<table border=\"1\" class=\"dataframe\">\n",
              "  <thead>\n",
              "    <tr style=\"text-align: right;\">\n",
              "      <th></th>\n",
              "      <th>Number of title words</th>\n",
              "    </tr>\n",
              "  </thead>\n",
              "  <tbody>\n",
              "    <tr>\n",
              "      <th>0</th>\n",
              "      <td>13</td>\n",
              "    </tr>\n",
              "    <tr>\n",
              "      <th>1</th>\n",
              "      <td>17</td>\n",
              "    </tr>\n",
              "    <tr>\n",
              "      <th>2</th>\n",
              "      <td>8</td>\n",
              "    </tr>\n",
              "  </tbody>\n",
              "</table>\n",
              "</div>"
            ],
            "text/plain": [
              "   Number of title words\n",
              "0                     13\n",
              "1                     17\n",
              "2                      8"
            ]
          },
          "metadata": {
            "tags": []
          },
          "execution_count": 11
        }
      ]
    },
    {
      "cell_type": "code",
      "metadata": {
        "colab": {
          "base_uri": "https://localhost:8080/"
        },
        "id": "2WEhBfuisgTZ",
        "outputId": "09d2422c-abe5-447f-a3f3-5ae9e725cd19"
      },
      "source": [
        "#Número de palavras no abstract\n",
        "abstract = dataset.iloc[:,22:23]\n",
        "#abstract\n",
        "\n",
        "X4 = pd.DataFrame(abstract['Abstract'].str.split().str.len()).replace(np.nan, 0)\n",
        "X4.columns = ['Number of abstract words']\n",
        "X4.head(3)"
      ],
      "execution_count": null,
      "outputs": [
        {
          "output_type": "execute_result",
          "data": {
            "text/html": [
              "<div>\n",
              "<style scoped>\n",
              "    .dataframe tbody tr th:only-of-type {\n",
              "        vertical-align: middle;\n",
              "    }\n",
              "\n",
              "    .dataframe tbody tr th {\n",
              "        vertical-align: top;\n",
              "    }\n",
              "\n",
              "    .dataframe thead th {\n",
              "        text-align: right;\n",
              "    }\n",
              "</style>\n",
              "<table border=\"1\" class=\"dataframe\">\n",
              "  <thead>\n",
              "    <tr style=\"text-align: right;\">\n",
              "      <th></th>\n",
              "      <th>Number of abstract words</th>\n",
              "    </tr>\n",
              "  </thead>\n",
              "  <tbody>\n",
              "    <tr>\n",
              "      <th>0</th>\n",
              "      <td>51.0</td>\n",
              "    </tr>\n",
              "    <tr>\n",
              "      <th>1</th>\n",
              "      <td>220.0</td>\n",
              "    </tr>\n",
              "    <tr>\n",
              "      <th>2</th>\n",
              "      <td>179.0</td>\n",
              "    </tr>\n",
              "  </tbody>\n",
              "</table>\n",
              "</div>"
            ],
            "text/plain": [
              "   Number of abstract words\n",
              "0                      51.0\n",
              "1                     220.0\n",
              "2                     179.0"
            ]
          },
          "metadata": {
            "tags": []
          },
          "execution_count": 12
        }
      ]
    },
    {
      "cell_type": "code",
      "metadata": {
        "colab": {
          "base_uri": "https://localhost:8080/"
        },
        "id": "JG-FwGtwkVhR",
        "outputId": "d8c8c77c-a1e4-426c-8d8a-590dfa6b8b9a"
      },
      "source": [
        "#Periódico onde foi publicado (Source Title)\n",
        "lista = dataset.iloc[:,10:11]\n",
        "#lista\n",
        "\n",
        "lista = pd.Series(lista.values.ravel('F')) #garante que o array é unidimensional\n",
        "lista.sort_values(0,inplace=True, ascending=True,ignore_index=True) #ordena os valores em ordem alfabética resetando o index\n",
        "lista = pd.unique(lista).tolist() #remove os nomes duplicados\n",
        "#lista\n",
        "\n",
        "#obtem o índice do nome do periódico na lista de periódicos (posição em ordem alfabética)\n",
        "busca = dataset.iloc[:,10:11].values#.tolist()\n",
        "busca\n",
        "\n",
        "\n",
        "X5 = [] \n",
        "i = 0\n",
        "while (i < len(busca)): \n",
        "    if (lista.count(busca[i]) > 0): \n",
        "        k = lista.index(busca[i])\n",
        "        X5.append(k) \n",
        "    else:\n",
        "        X5.append(None)\n",
        "    i += 1\n",
        "\n",
        "#armazena o index da lista de autores a partir do índice localizado na lista dos nomes dos primeiros autores\n",
        "X5 = pd.DataFrame(X5)\n",
        "X5.columns = ['Journal']\n",
        "X5#.head(3)"
      ],
      "execution_count": null,
      "outputs": [
        {
          "output_type": "execute_result",
          "data": {
            "text/html": [
              "<div>\n",
              "<style scoped>\n",
              "    .dataframe tbody tr th:only-of-type {\n",
              "        vertical-align: middle;\n",
              "    }\n",
              "\n",
              "    .dataframe tbody tr th {\n",
              "        vertical-align: top;\n",
              "    }\n",
              "\n",
              "    .dataframe thead th {\n",
              "        text-align: right;\n",
              "    }\n",
              "</style>\n",
              "<table border=\"1\" class=\"dataframe\">\n",
              "  <thead>\n",
              "    <tr style=\"text-align: right;\">\n",
              "      <th></th>\n",
              "      <th>Journal</th>\n",
              "    </tr>\n",
              "  </thead>\n",
              "  <tbody>\n",
              "    <tr>\n",
              "      <th>0</th>\n",
              "      <td>53</td>\n",
              "    </tr>\n",
              "    <tr>\n",
              "      <th>1</th>\n",
              "      <td>120</td>\n",
              "    </tr>\n",
              "    <tr>\n",
              "      <th>2</th>\n",
              "      <td>120</td>\n",
              "    </tr>\n",
              "    <tr>\n",
              "      <th>3</th>\n",
              "      <td>65</td>\n",
              "    </tr>\n",
              "    <tr>\n",
              "      <th>4</th>\n",
              "      <td>64</td>\n",
              "    </tr>\n",
              "    <tr>\n",
              "      <th>...</th>\n",
              "      <td>...</td>\n",
              "    </tr>\n",
              "    <tr>\n",
              "      <th>3095</th>\n",
              "      <td>120</td>\n",
              "    </tr>\n",
              "    <tr>\n",
              "      <th>3096</th>\n",
              "      <td>69</td>\n",
              "    </tr>\n",
              "    <tr>\n",
              "      <th>3097</th>\n",
              "      <td>80</td>\n",
              "    </tr>\n",
              "    <tr>\n",
              "      <th>3098</th>\n",
              "      <td>98</td>\n",
              "    </tr>\n",
              "    <tr>\n",
              "      <th>3099</th>\n",
              "      <td>130</td>\n",
              "    </tr>\n",
              "  </tbody>\n",
              "</table>\n",
              "<p>3100 rows × 1 columns</p>\n",
              "</div>"
            ],
            "text/plain": [
              "      Journal\n",
              "0          53\n",
              "1         120\n",
              "2         120\n",
              "3          65\n",
              "4          64\n",
              "...       ...\n",
              "3095      120\n",
              "3096       69\n",
              "3097       80\n",
              "3098       98\n",
              "3099      130\n",
              "\n",
              "[3100 rows x 1 columns]"
            ]
          },
          "metadata": {
            "tags": []
          },
          "execution_count": 13
        }
      ]
    },
    {
      "cell_type": "code",
      "metadata": {
        "colab": {
          "base_uri": "https://localhost:8080/"
        },
        "id": "tqtu4UACkfLv",
        "outputId": "a2188c5f-038d-4aa2-f467-00f30cd53c1f"
      },
      "source": [
        "#Quantidade de citações realizadas (Cited Reference Count)\n",
        "X6 = dataset.iloc[:,31:32]\n",
        "X6.head(3)"
      ],
      "execution_count": null,
      "outputs": [
        {
          "output_type": "execute_result",
          "data": {
            "text/html": [
              "<div>\n",
              "<style scoped>\n",
              "    .dataframe tbody tr th:only-of-type {\n",
              "        vertical-align: middle;\n",
              "    }\n",
              "\n",
              "    .dataframe tbody tr th {\n",
              "        vertical-align: top;\n",
              "    }\n",
              "\n",
              "    .dataframe thead th {\n",
              "        text-align: right;\n",
              "    }\n",
              "</style>\n",
              "<table border=\"1\" class=\"dataframe\">\n",
              "  <thead>\n",
              "    <tr style=\"text-align: right;\">\n",
              "      <th></th>\n",
              "      <th>Cited Reference Count</th>\n",
              "    </tr>\n",
              "  </thead>\n",
              "  <tbody>\n",
              "    <tr>\n",
              "      <th>0</th>\n",
              "      <td>36</td>\n",
              "    </tr>\n",
              "    <tr>\n",
              "      <th>1</th>\n",
              "      <td>140</td>\n",
              "    </tr>\n",
              "    <tr>\n",
              "      <th>2</th>\n",
              "      <td>48</td>\n",
              "    </tr>\n",
              "  </tbody>\n",
              "</table>\n",
              "</div>"
            ],
            "text/plain": [
              "   Cited Reference Count\n",
              "0                     36\n",
              "1                    140\n",
              "2                     48"
            ]
          },
          "metadata": {
            "tags": []
          },
          "execution_count": 14
        }
      ]
    },
    {
      "cell_type": "code",
      "metadata": {
        "colab": {
          "base_uri": "https://localhost:8080/"
        },
        "id": "SVC0s0NFkoUO",
        "outputId": "09131b96-7d31-4a35-cb15-eba4f0395b8c"
      },
      "source": [
        "#Ano da publicação (Publication Year)\n",
        "X7 = dataset.iloc[:,45:46]\n",
        "X7 = X7.replace({np.nan: None})\n",
        "X7.head(3)"
      ],
      "execution_count": null,
      "outputs": [
        {
          "output_type": "execute_result",
          "data": {
            "text/html": [
              "<div>\n",
              "<style scoped>\n",
              "    .dataframe tbody tr th:only-of-type {\n",
              "        vertical-align: middle;\n",
              "    }\n",
              "\n",
              "    .dataframe tbody tr th {\n",
              "        vertical-align: top;\n",
              "    }\n",
              "\n",
              "    .dataframe thead th {\n",
              "        text-align: right;\n",
              "    }\n",
              "</style>\n",
              "<table border=\"1\" class=\"dataframe\">\n",
              "  <thead>\n",
              "    <tr style=\"text-align: right;\">\n",
              "      <th></th>\n",
              "      <th>Publication Year</th>\n",
              "    </tr>\n",
              "  </thead>\n",
              "  <tbody>\n",
              "    <tr>\n",
              "      <th>0</th>\n",
              "      <td>2021.0</td>\n",
              "    </tr>\n",
              "    <tr>\n",
              "      <th>1</th>\n",
              "      <td>2021.0</td>\n",
              "    </tr>\n",
              "    <tr>\n",
              "      <th>2</th>\n",
              "      <td>2021.0</td>\n",
              "    </tr>\n",
              "  </tbody>\n",
              "</table>\n",
              "</div>"
            ],
            "text/plain": [
              "   Publication Year\n",
              "0            2021.0\n",
              "1            2021.0\n",
              "2            2021.0"
            ]
          },
          "metadata": {
            "tags": []
          },
          "execution_count": 15
        }
      ]
    },
    {
      "cell_type": "code",
      "metadata": {
        "colab": {
          "base_uri": "https://localhost:8080/"
        },
        "id": "3SExvpxgk6Rl",
        "outputId": "07ea22ec-d601-430a-f02c-dd42f3aa04c4"
      },
      "source": [
        "#É parte de número especial? (Special Issue)\n",
        "X8 = dataset.iloc[:,50:51]\n",
        "#X8\n",
        "\n",
        "X8 = pd.Series(X8['Special Issue']).str.replace('SI', '1').replace(np.nan, 0)\n",
        "X8.columns = ['Special Issue']\n",
        "\n",
        "X8.head(3)"
      ],
      "execution_count": null,
      "outputs": [
        {
          "output_type": "execute_result",
          "data": {
            "text/plain": [
              "0    0\n",
              "1    0\n",
              "2    0\n",
              "Name: Special Issue, dtype: object"
            ]
          },
          "metadata": {
            "tags": []
          },
          "execution_count": 16
        }
      ]
    },
    {
      "cell_type": "code",
      "metadata": {
        "colab": {
          "base_uri": "https://localhost:8080/"
        },
        "id": "QEZ8H8VxlIzm",
        "outputId": "dd157236-9b6c-415a-fc36-2a8d8e707de6"
      },
      "source": [
        "#Contagem de páginas (Number of Pages)\n",
        "X9 = dataset.iloc[:,58:59]\n",
        "X9.head(3)"
      ],
      "execution_count": null,
      "outputs": [
        {
          "output_type": "execute_result",
          "data": {
            "text/html": [
              "<div>\n",
              "<style scoped>\n",
              "    .dataframe tbody tr th:only-of-type {\n",
              "        vertical-align: middle;\n",
              "    }\n",
              "\n",
              "    .dataframe tbody tr th {\n",
              "        vertical-align: top;\n",
              "    }\n",
              "\n",
              "    .dataframe thead th {\n",
              "        text-align: right;\n",
              "    }\n",
              "</style>\n",
              "<table border=\"1\" class=\"dataframe\">\n",
              "  <thead>\n",
              "    <tr style=\"text-align: right;\">\n",
              "      <th></th>\n",
              "      <th>Number of Pages</th>\n",
              "    </tr>\n",
              "  </thead>\n",
              "  <tbody>\n",
              "    <tr>\n",
              "      <th>0</th>\n",
              "      <td>9</td>\n",
              "    </tr>\n",
              "    <tr>\n",
              "      <th>1</th>\n",
              "      <td>38</td>\n",
              "    </tr>\n",
              "    <tr>\n",
              "      <th>2</th>\n",
              "      <td>42</td>\n",
              "    </tr>\n",
              "  </tbody>\n",
              "</table>\n",
              "</div>"
            ],
            "text/plain": [
              "   Number of Pages\n",
              "0                9\n",
              "1               38\n",
              "2               42"
            ]
          },
          "metadata": {
            "tags": []
          },
          "execution_count": 17
        }
      ]
    },
    {
      "cell_type": "code",
      "metadata": {
        "colab": {
          "base_uri": "https://localhost:8080/"
        },
        "id": "q-fEBLiQjym4",
        "outputId": "e090d5b1-931a-495d-c3c7-90c43dd06291"
      },
      "source": [
        "#juntar as variáveis independentes em um só dataset\n",
        "X = pd.concat([X1,X2,X3,X4,X5,X6,X7,X8,X9], axis=1)\n",
        "#X = X.reset_index()\n",
        "#X.sort_values('Publication Year',inplace=True, ascending=False,ignore_index=True)\n",
        "X.head(3)\n",
        "#X.to_csv('/content/drive/MyDrive/PGCIN-UFSC/PCI410068 Machine Learning e Deep Learning/dados_predicao_exportados_colab.csv') "
      ],
      "execution_count": null,
      "outputs": [
        {
          "output_type": "execute_result",
          "data": {
            "text/html": [
              "<div>\n",
              "<style scoped>\n",
              "    .dataframe tbody tr th:only-of-type {\n",
              "        vertical-align: middle;\n",
              "    }\n",
              "\n",
              "    .dataframe tbody tr th {\n",
              "        vertical-align: top;\n",
              "    }\n",
              "\n",
              "    .dataframe thead th {\n",
              "        text-align: right;\n",
              "    }\n",
              "</style>\n",
              "<table border=\"1\" class=\"dataframe\">\n",
              "  <thead>\n",
              "    <tr style=\"text-align: right;\">\n",
              "      <th></th>\n",
              "      <th>Number of authors</th>\n",
              "      <th>First Author Position</th>\n",
              "      <th>Number of title words</th>\n",
              "      <th>Number of abstract words</th>\n",
              "      <th>Journal</th>\n",
              "      <th>Cited Reference Count</th>\n",
              "      <th>Publication Year</th>\n",
              "      <th>Special Issue</th>\n",
              "      <th>Number of Pages</th>\n",
              "    </tr>\n",
              "  </thead>\n",
              "  <tbody>\n",
              "    <tr>\n",
              "      <th>0</th>\n",
              "      <td>3</td>\n",
              "      <td>5163</td>\n",
              "      <td>13</td>\n",
              "      <td>51.0</td>\n",
              "      <td>53</td>\n",
              "      <td>36</td>\n",
              "      <td>2021.0</td>\n",
              "      <td>0</td>\n",
              "      <td>9</td>\n",
              "    </tr>\n",
              "    <tr>\n",
              "      <th>1</th>\n",
              "      <td>4</td>\n",
              "      <td>4833</td>\n",
              "      <td>17</td>\n",
              "      <td>220.0</td>\n",
              "      <td>120</td>\n",
              "      <td>140</td>\n",
              "      <td>2021.0</td>\n",
              "      <td>0</td>\n",
              "      <td>38</td>\n",
              "    </tr>\n",
              "    <tr>\n",
              "      <th>2</th>\n",
              "      <td>7</td>\n",
              "      <td>5452</td>\n",
              "      <td>8</td>\n",
              "      <td>179.0</td>\n",
              "      <td>120</td>\n",
              "      <td>48</td>\n",
              "      <td>2021.0</td>\n",
              "      <td>0</td>\n",
              "      <td>42</td>\n",
              "    </tr>\n",
              "  </tbody>\n",
              "</table>\n",
              "</div>"
            ],
            "text/plain": [
              "   Number of authors  First Author Position  ...  Special Issue  Number of Pages\n",
              "0                  3                   5163  ...              0                9\n",
              "1                  4                   4833  ...              0               38\n",
              "2                  7                   5452  ...              0               42\n",
              "\n",
              "[3 rows x 9 columns]"
            ]
          },
          "metadata": {
            "tags": []
          },
          "execution_count": 18
        }
      ]
    },
    {
      "cell_type": "code",
      "metadata": {
        "colab": {
          "base_uri": "https://localhost:8080/"
        },
        "id": "cSumaGvtFB7h",
        "outputId": "4fd7d885-8426-4a19-cdcf-02910a286fa1"
      },
      "source": [
        "#converte em arrays\n",
        "type(X) #retorna o tipo\n",
        "X = X.values\n",
        "Y = Y.values\n",
        "type(X) #retorna o tipo, agora array"
      ],
      "execution_count": null,
      "outputs": [
        {
          "output_type": "execute_result",
          "data": {
            "text/plain": [
              "numpy.ndarray"
            ]
          },
          "metadata": {
            "tags": []
          },
          "execution_count": 19
        }
      ]
    },
    {
      "cell_type": "code",
      "metadata": {
        "id": "hbHUYDycHIs-"
      },
      "source": [
        "#cria primeiro uma estratificação das citações por quartis para os modelos por classificação\n",
        "\n",
        "#quartil\tinicio\tfim\n",
        "#Q1\t    0\t      2\n",
        "#Q2\t    2\t      11,5\n",
        "#Q3\t    11,5\t  31,25\n",
        "#Q4\t    31,25\t  1376\n",
        "\n",
        "Q = [] \n",
        "i = 0\n",
        "while (i < len(Y)): \n",
        "        if Y[i] >= 0 and Y[i] < 2: \n",
        "          Q.append('1') #Q1\n",
        "        elif Y[i] >= 2 and Y[i] < 12:\n",
        "          Q.append('2') #Q2\n",
        "        elif Y[i] >= 12 and Y[i] < 31:\n",
        "          Q.append('3') #Q3\n",
        "        elif Y[i] >= 31:\n",
        "          Q.append('4') #Q4\n",
        "        i+=1\n",
        "\n",
        "Q = pd.DataFrame(Q).astype({0: 'int32'})\n",
        "Q.columns = ['Citation Count Quartile']\n",
        "Q#.head(3)\n",
        "Q.value_counts()\n",
        "Q = Q.values"
      ],
      "execution_count": null,
      "outputs": []
    },
    {
      "cell_type": "code",
      "metadata": {
        "id": "6eaoTt3Y3cbq"
      },
      "source": [
        "#np.any(np.isnan(X4))\n",
        "#np.isfinite(X4.all())"
      ],
      "execution_count": null,
      "outputs": []
    },
    {
      "cell_type": "markdown",
      "metadata": {
        "id": "EQxuu7y5rzRm"
      },
      "source": [
        "# Exploração dos dados"
      ]
    },
    {
      "cell_type": "code",
      "metadata": {
        "colab": {
          "base_uri": "https://localhost:8080/",
          "height": 293
        },
        "id": "MbfYtXyRrx_l",
        "outputId": "4e5681a4-c8d3-45a8-de8c-c5836ae59d15"
      },
      "source": [
        "Xex = pd.concat([X1,X2,X3,X4,X5,X6,X7,X8,X9], axis=1)\n",
        "Xex.describe()"
      ],
      "execution_count": null,
      "outputs": [
        {
          "output_type": "execute_result",
          "data": {
            "text/html": [
              "<div>\n",
              "<style scoped>\n",
              "    .dataframe tbody tr th:only-of-type {\n",
              "        vertical-align: middle;\n",
              "    }\n",
              "\n",
              "    .dataframe tbody tr th {\n",
              "        vertical-align: top;\n",
              "    }\n",
              "\n",
              "    .dataframe thead th {\n",
              "        text-align: right;\n",
              "    }\n",
              "</style>\n",
              "<table border=\"1\" class=\"dataframe\">\n",
              "  <thead>\n",
              "    <tr style=\"text-align: right;\">\n",
              "      <th></th>\n",
              "      <th>Number of authors</th>\n",
              "      <th>First Author Position</th>\n",
              "      <th>Number of title words</th>\n",
              "      <th>Number of abstract words</th>\n",
              "      <th>Journal</th>\n",
              "      <th>Cited Reference Count</th>\n",
              "      <th>Publication Year</th>\n",
              "      <th>Number of Pages</th>\n",
              "    </tr>\n",
              "  </thead>\n",
              "  <tbody>\n",
              "    <tr>\n",
              "      <th>count</th>\n",
              "      <td>3100.000000</td>\n",
              "      <td>3100.000000</td>\n",
              "      <td>3100.000000</td>\n",
              "      <td>3100.000000</td>\n",
              "      <td>3100.000000</td>\n",
              "      <td>3100.000000</td>\n",
              "      <td>3100.000000</td>\n",
              "      <td>3100.000000</td>\n",
              "    </tr>\n",
              "    <tr>\n",
              "      <th>mean</th>\n",
              "      <td>2.705484</td>\n",
              "      <td>4668.060000</td>\n",
              "      <td>12.654516</td>\n",
              "      <td>181.961613</td>\n",
              "      <td>91.534839</td>\n",
              "      <td>39.638387</td>\n",
              "      <td>2015.857742</td>\n",
              "      <td>15.908710</td>\n",
              "    </tr>\n",
              "    <tr>\n",
              "      <th>std</th>\n",
              "      <td>1.473232</td>\n",
              "      <td>605.009228</td>\n",
              "      <td>4.545528</td>\n",
              "      <td>68.576068</td>\n",
              "      <td>35.143459</td>\n",
              "      <td>32.820120</td>\n",
              "      <td>2.963490</td>\n",
              "      <td>7.235029</td>\n",
              "    </tr>\n",
              "    <tr>\n",
              "      <th>min</th>\n",
              "      <td>1.000000</td>\n",
              "      <td>3680.000000</td>\n",
              "      <td>2.000000</td>\n",
              "      <td>0.000000</td>\n",
              "      <td>0.000000</td>\n",
              "      <td>0.000000</td>\n",
              "      <td>2010.000000</td>\n",
              "      <td>2.000000</td>\n",
              "    </tr>\n",
              "    <tr>\n",
              "      <th>25%</th>\n",
              "      <td>2.000000</td>\n",
              "      <td>4152.000000</td>\n",
              "      <td>9.000000</td>\n",
              "      <td>139.000000</td>\n",
              "      <td>71.000000</td>\n",
              "      <td>21.000000</td>\n",
              "      <td>2014.000000</td>\n",
              "      <td>11.000000</td>\n",
              "    </tr>\n",
              "    <tr>\n",
              "      <th>50%</th>\n",
              "      <td>2.000000</td>\n",
              "      <td>4642.500000</td>\n",
              "      <td>12.000000</td>\n",
              "      <td>179.000000</td>\n",
              "      <td>110.000000</td>\n",
              "      <td>33.000000</td>\n",
              "      <td>2016.000000</td>\n",
              "      <td>15.000000</td>\n",
              "    </tr>\n",
              "    <tr>\n",
              "      <th>75%</th>\n",
              "      <td>3.000000</td>\n",
              "      <td>5195.250000</td>\n",
              "      <td>15.000000</td>\n",
              "      <td>220.000000</td>\n",
              "      <td>120.000000</td>\n",
              "      <td>49.000000</td>\n",
              "      <td>2018.000000</td>\n",
              "      <td>20.000000</td>\n",
              "    </tr>\n",
              "    <tr>\n",
              "      <th>max</th>\n",
              "      <td>19.000000</td>\n",
              "      <td>5733.000000</td>\n",
              "      <td>42.000000</td>\n",
              "      <td>1283.000000</td>\n",
              "      <td>134.000000</td>\n",
              "      <td>900.000000</td>\n",
              "      <td>2021.000000</td>\n",
              "      <td>62.000000</td>\n",
              "    </tr>\n",
              "  </tbody>\n",
              "</table>\n",
              "</div>"
            ],
            "text/plain": [
              "       Number of authors  ...  Number of Pages\n",
              "count        3100.000000  ...      3100.000000\n",
              "mean            2.705484  ...        15.908710\n",
              "std             1.473232  ...         7.235029\n",
              "min             1.000000  ...         2.000000\n",
              "25%             2.000000  ...        11.000000\n",
              "50%             2.000000  ...        15.000000\n",
              "75%             3.000000  ...        20.000000\n",
              "max            19.000000  ...        62.000000\n",
              "\n",
              "[8 rows x 8 columns]"
            ]
          },
          "metadata": {
            "tags": []
          },
          "execution_count": 94
        }
      ]
    },
    {
      "cell_type": "code",
      "metadata": {
        "colab": {
          "base_uri": "https://localhost:8080/",
          "height": 277
        },
        "id": "eyBHJSbYsX-X",
        "outputId": "ea9e58ab-854c-4ba2-fcd5-dffe353be963"
      },
      "source": [
        "Yex = pd.DataFrame(Y, columns = ['Citation count'])\n",
        "Yex.describe()"
      ],
      "execution_count": null,
      "outputs": [
        {
          "output_type": "execute_result",
          "data": {
            "text/html": [
              "<div>\n",
              "<style scoped>\n",
              "    .dataframe tbody tr th:only-of-type {\n",
              "        vertical-align: middle;\n",
              "    }\n",
              "\n",
              "    .dataframe tbody tr th {\n",
              "        vertical-align: top;\n",
              "    }\n",
              "\n",
              "    .dataframe thead th {\n",
              "        text-align: right;\n",
              "    }\n",
              "</style>\n",
              "<table border=\"1\" class=\"dataframe\">\n",
              "  <thead>\n",
              "    <tr style=\"text-align: right;\">\n",
              "      <th></th>\n",
              "      <th>Citation count</th>\n",
              "    </tr>\n",
              "  </thead>\n",
              "  <tbody>\n",
              "    <tr>\n",
              "      <th>count</th>\n",
              "      <td>3100.000000</td>\n",
              "    </tr>\n",
              "    <tr>\n",
              "      <th>mean</th>\n",
              "      <td>2.014194</td>\n",
              "    </tr>\n",
              "    <tr>\n",
              "      <th>std</th>\n",
              "      <td>6.389816</td>\n",
              "    </tr>\n",
              "    <tr>\n",
              "      <th>min</th>\n",
              "      <td>0.000000</td>\n",
              "    </tr>\n",
              "    <tr>\n",
              "      <th>25%</th>\n",
              "      <td>0.000000</td>\n",
              "    </tr>\n",
              "    <tr>\n",
              "      <th>50%</th>\n",
              "      <td>1.000000</td>\n",
              "    </tr>\n",
              "    <tr>\n",
              "      <th>75%</th>\n",
              "      <td>2.000000</td>\n",
              "    </tr>\n",
              "    <tr>\n",
              "      <th>max</th>\n",
              "      <td>196.000000</td>\n",
              "    </tr>\n",
              "  </tbody>\n",
              "</table>\n",
              "</div>"
            ],
            "text/plain": [
              "       Citation count\n",
              "count     3100.000000\n",
              "mean         2.014194\n",
              "std          6.389816\n",
              "min          0.000000\n",
              "25%          0.000000\n",
              "50%          1.000000\n",
              "75%          2.000000\n",
              "max        196.000000"
            ]
          },
          "metadata": {
            "tags": []
          },
          "execution_count": 95
        }
      ]
    },
    {
      "cell_type": "code",
      "metadata": {
        "colab": {
          "base_uri": "https://localhost:8080/"
        },
        "id": "YrEy8ow9vjEU",
        "outputId": "33ddb6a5-7b9b-4089-e0b8-f67f9029f2f9"
      },
      "source": [
        "Xex.info()"
      ],
      "execution_count": null,
      "outputs": [
        {
          "output_type": "stream",
          "text": [
            "<class 'pandas.core.frame.DataFrame'>\n",
            "RangeIndex: 3100 entries, 0 to 3099\n",
            "Data columns (total 9 columns):\n",
            " #   Column                    Non-Null Count  Dtype  \n",
            "---  ------                    --------------  -----  \n",
            " 0   Number of authors         3100 non-null   int64  \n",
            " 1   First Author Position     3100 non-null   int64  \n",
            " 2   Number of title words     3100 non-null   int64  \n",
            " 3   Number of abstract words  3100 non-null   float64\n",
            " 4   Journal                   3100 non-null   int64  \n",
            " 5   Cited Reference Count     3100 non-null   int64  \n",
            " 6   Publication Year          3100 non-null   float64\n",
            " 7   Special Issue             3100 non-null   object \n",
            " 8   Number of Pages           3100 non-null   int64  \n",
            "dtypes: float64(2), int64(6), object(1)\n",
            "memory usage: 218.1+ KB\n"
          ],
          "name": "stdout"
        }
      ]
    },
    {
      "cell_type": "code",
      "metadata": {
        "colab": {
          "base_uri": "https://localhost:8080/"
        },
        "id": "kMbL_9IOvnJq",
        "outputId": "d2b95ad0-1cf4-44ba-db7d-4269923bfcd1"
      },
      "source": [
        "Yex.info()"
      ],
      "execution_count": null,
      "outputs": [
        {
          "output_type": "stream",
          "text": [
            "<class 'pandas.core.frame.DataFrame'>\n",
            "RangeIndex: 3100 entries, 0 to 3099\n",
            "Data columns (total 1 columns):\n",
            " #   Column          Non-Null Count  Dtype  \n",
            "---  ------          --------------  -----  \n",
            " 0   Citation count  3100 non-null   float64\n",
            "dtypes: float64(1)\n",
            "memory usage: 24.3 KB\n"
          ],
          "name": "stdout"
        }
      ]
    },
    {
      "cell_type": "code",
      "metadata": {
        "colab": {
          "base_uri": "https://localhost:8080/",
          "height": 387
        },
        "id": "wCcOi-t56ZHM",
        "outputId": "f0cd8cd0-bda9-4bd1-e2e7-76e7d9e1a9bf"
      },
      "source": [
        "allvar = pd.concat([Yex,X1,X2,X3,X4,X5,X6,X7,X8,X9], axis=1)\n",
        "allvar.corr('pearson')"
      ],
      "execution_count": null,
      "outputs": [
        {
          "output_type": "execute_result",
          "data": {
            "text/html": [
              "<div>\n",
              "<style scoped>\n",
              "    .dataframe tbody tr th:only-of-type {\n",
              "        vertical-align: middle;\n",
              "    }\n",
              "\n",
              "    .dataframe tbody tr th {\n",
              "        vertical-align: top;\n",
              "    }\n",
              "\n",
              "    .dataframe thead th {\n",
              "        text-align: right;\n",
              "    }\n",
              "</style>\n",
              "<table border=\"1\" class=\"dataframe\">\n",
              "  <thead>\n",
              "    <tr style=\"text-align: right;\">\n",
              "      <th></th>\n",
              "      <th>Citation count</th>\n",
              "      <th>Number of authors</th>\n",
              "      <th>First Author Position</th>\n",
              "      <th>Number of title words</th>\n",
              "      <th>Number of abstract words</th>\n",
              "      <th>Journal</th>\n",
              "      <th>Cited Reference Count</th>\n",
              "      <th>Publication Year</th>\n",
              "      <th>Number of Pages</th>\n",
              "    </tr>\n",
              "  </thead>\n",
              "  <tbody>\n",
              "    <tr>\n",
              "      <th>Citation count</th>\n",
              "      <td>1.000000</td>\n",
              "      <td>0.021628</td>\n",
              "      <td>-0.004823</td>\n",
              "      <td>-0.021884</td>\n",
              "      <td>-0.023048</td>\n",
              "      <td>0.059462</td>\n",
              "      <td>0.088688</td>\n",
              "      <td>-0.118343</td>\n",
              "      <td>0.059874</td>\n",
              "    </tr>\n",
              "    <tr>\n",
              "      <th>Number of authors</th>\n",
              "      <td>0.021628</td>\n",
              "      <td>1.000000</td>\n",
              "      <td>0.033272</td>\n",
              "      <td>0.034866</td>\n",
              "      <td>0.070335</td>\n",
              "      <td>0.105518</td>\n",
              "      <td>0.057533</td>\n",
              "      <td>0.054702</td>\n",
              "      <td>0.126595</td>\n",
              "    </tr>\n",
              "    <tr>\n",
              "      <th>First Author Position</th>\n",
              "      <td>-0.004823</td>\n",
              "      <td>0.033272</td>\n",
              "      <td>1.000000</td>\n",
              "      <td>-0.036338</td>\n",
              "      <td>0.002829</td>\n",
              "      <td>0.013954</td>\n",
              "      <td>-0.015571</td>\n",
              "      <td>0.014763</td>\n",
              "      <td>0.005135</td>\n",
              "    </tr>\n",
              "    <tr>\n",
              "      <th>Number of title words</th>\n",
              "      <td>-0.021884</td>\n",
              "      <td>0.034866</td>\n",
              "      <td>-0.036338</td>\n",
              "      <td>1.000000</td>\n",
              "      <td>0.145817</td>\n",
              "      <td>0.015426</td>\n",
              "      <td>0.025771</td>\n",
              "      <td>0.047997</td>\n",
              "      <td>0.068941</td>\n",
              "    </tr>\n",
              "    <tr>\n",
              "      <th>Number of abstract words</th>\n",
              "      <td>-0.023048</td>\n",
              "      <td>0.070335</td>\n",
              "      <td>0.002829</td>\n",
              "      <td>0.145817</td>\n",
              "      <td>1.000000</td>\n",
              "      <td>-0.008438</td>\n",
              "      <td>0.056950</td>\n",
              "      <td>0.168921</td>\n",
              "      <td>0.195534</td>\n",
              "    </tr>\n",
              "    <tr>\n",
              "      <th>Journal</th>\n",
              "      <td>0.059462</td>\n",
              "      <td>0.105518</td>\n",
              "      <td>0.013954</td>\n",
              "      <td>0.015426</td>\n",
              "      <td>-0.008438</td>\n",
              "      <td>1.000000</td>\n",
              "      <td>0.022115</td>\n",
              "      <td>-0.110361</td>\n",
              "      <td>0.140715</td>\n",
              "    </tr>\n",
              "    <tr>\n",
              "      <th>Cited Reference Count</th>\n",
              "      <td>0.088688</td>\n",
              "      <td>0.057533</td>\n",
              "      <td>-0.015571</td>\n",
              "      <td>0.025771</td>\n",
              "      <td>0.056950</td>\n",
              "      <td>0.022115</td>\n",
              "      <td>1.000000</td>\n",
              "      <td>0.089549</td>\n",
              "      <td>0.496233</td>\n",
              "    </tr>\n",
              "    <tr>\n",
              "      <th>Publication Year</th>\n",
              "      <td>-0.118343</td>\n",
              "      <td>0.054702</td>\n",
              "      <td>0.014763</td>\n",
              "      <td>0.047997</td>\n",
              "      <td>0.168921</td>\n",
              "      <td>-0.110361</td>\n",
              "      <td>0.089549</td>\n",
              "      <td>1.000000</td>\n",
              "      <td>0.140307</td>\n",
              "    </tr>\n",
              "    <tr>\n",
              "      <th>Number of Pages</th>\n",
              "      <td>0.059874</td>\n",
              "      <td>0.126595</td>\n",
              "      <td>0.005135</td>\n",
              "      <td>0.068941</td>\n",
              "      <td>0.195534</td>\n",
              "      <td>0.140715</td>\n",
              "      <td>0.496233</td>\n",
              "      <td>0.140307</td>\n",
              "      <td>1.000000</td>\n",
              "    </tr>\n",
              "  </tbody>\n",
              "</table>\n",
              "</div>"
            ],
            "text/plain": [
              "                          Citation count  ...  Number of Pages\n",
              "Citation count                  1.000000  ...         0.059874\n",
              "Number of authors               0.021628  ...         0.126595\n",
              "First Author Position          -0.004823  ...         0.005135\n",
              "Number of title words          -0.021884  ...         0.068941\n",
              "Number of abstract words       -0.023048  ...         0.195534\n",
              "Journal                         0.059462  ...         0.140715\n",
              "Cited Reference Count           0.088688  ...         0.496233\n",
              "Publication Year               -0.118343  ...         0.140307\n",
              "Number of Pages                 0.059874  ...         1.000000\n",
              "\n",
              "[9 rows x 9 columns]"
            ]
          },
          "metadata": {
            "tags": []
          },
          "execution_count": 245
        }
      ]
    },
    {
      "cell_type": "code",
      "metadata": {
        "colab": {
          "base_uri": "https://localhost:8080/",
          "height": 387
        },
        "id": "VYtwN5NFQvT3",
        "outputId": "a7502f6d-7068-4371-bf90-81beb5fd7f15"
      },
      "source": [
        "allvar.corr('spearman')"
      ],
      "execution_count": null,
      "outputs": [
        {
          "output_type": "execute_result",
          "data": {
            "text/html": [
              "<div>\n",
              "<style scoped>\n",
              "    .dataframe tbody tr th:only-of-type {\n",
              "        vertical-align: middle;\n",
              "    }\n",
              "\n",
              "    .dataframe tbody tr th {\n",
              "        vertical-align: top;\n",
              "    }\n",
              "\n",
              "    .dataframe thead th {\n",
              "        text-align: right;\n",
              "    }\n",
              "</style>\n",
              "<table border=\"1\" class=\"dataframe\">\n",
              "  <thead>\n",
              "    <tr style=\"text-align: right;\">\n",
              "      <th></th>\n",
              "      <th>Citation count</th>\n",
              "      <th>Number of authors</th>\n",
              "      <th>First Author Position</th>\n",
              "      <th>Number of title words</th>\n",
              "      <th>Number of abstract words</th>\n",
              "      <th>Journal</th>\n",
              "      <th>Cited Reference Count</th>\n",
              "      <th>Publication Year</th>\n",
              "      <th>Number of Pages</th>\n",
              "    </tr>\n",
              "  </thead>\n",
              "  <tbody>\n",
              "    <tr>\n",
              "      <th>Citation count</th>\n",
              "      <td>1.000000</td>\n",
              "      <td>0.069732</td>\n",
              "      <td>-0.026024</td>\n",
              "      <td>-0.024094</td>\n",
              "      <td>0.010751</td>\n",
              "      <td>0.196305</td>\n",
              "      <td>0.258497</td>\n",
              "      <td>-0.236374</td>\n",
              "      <td>0.103320</td>\n",
              "    </tr>\n",
              "    <tr>\n",
              "      <th>Number of authors</th>\n",
              "      <td>0.069732</td>\n",
              "      <td>1.000000</td>\n",
              "      <td>0.020715</td>\n",
              "      <td>0.053623</td>\n",
              "      <td>0.082010</td>\n",
              "      <td>0.115941</td>\n",
              "      <td>0.116104</td>\n",
              "      <td>0.050777</td>\n",
              "      <td>0.157067</td>\n",
              "    </tr>\n",
              "    <tr>\n",
              "      <th>First Author Position</th>\n",
              "      <td>-0.026024</td>\n",
              "      <td>0.020715</td>\n",
              "      <td>1.000000</td>\n",
              "      <td>-0.022578</td>\n",
              "      <td>0.016098</td>\n",
              "      <td>0.021739</td>\n",
              "      <td>0.004378</td>\n",
              "      <td>0.020375</td>\n",
              "      <td>0.019510</td>\n",
              "    </tr>\n",
              "    <tr>\n",
              "      <th>Number of title words</th>\n",
              "      <td>-0.024094</td>\n",
              "      <td>0.053623</td>\n",
              "      <td>-0.022578</td>\n",
              "      <td>1.000000</td>\n",
              "      <td>0.156778</td>\n",
              "      <td>0.010977</td>\n",
              "      <td>0.047502</td>\n",
              "      <td>0.046966</td>\n",
              "      <td>0.097320</td>\n",
              "    </tr>\n",
              "    <tr>\n",
              "      <th>Number of abstract words</th>\n",
              "      <td>0.010751</td>\n",
              "      <td>0.082010</td>\n",
              "      <td>0.016098</td>\n",
              "      <td>0.156778</td>\n",
              "      <td>1.000000</td>\n",
              "      <td>0.033851</td>\n",
              "      <td>0.188935</td>\n",
              "      <td>0.175726</td>\n",
              "      <td>0.253979</td>\n",
              "    </tr>\n",
              "    <tr>\n",
              "      <th>Journal</th>\n",
              "      <td>0.196305</td>\n",
              "      <td>0.115941</td>\n",
              "      <td>0.021739</td>\n",
              "      <td>0.010977</td>\n",
              "      <td>0.033851</td>\n",
              "      <td>1.000000</td>\n",
              "      <td>0.063136</td>\n",
              "      <td>-0.086618</td>\n",
              "      <td>0.204742</td>\n",
              "    </tr>\n",
              "    <tr>\n",
              "      <th>Cited Reference Count</th>\n",
              "      <td>0.258497</td>\n",
              "      <td>0.116104</td>\n",
              "      <td>0.004378</td>\n",
              "      <td>0.047502</td>\n",
              "      <td>0.188935</td>\n",
              "      <td>0.063136</td>\n",
              "      <td>1.000000</td>\n",
              "      <td>0.116581</td>\n",
              "      <td>0.502521</td>\n",
              "    </tr>\n",
              "    <tr>\n",
              "      <th>Publication Year</th>\n",
              "      <td>-0.236374</td>\n",
              "      <td>0.050777</td>\n",
              "      <td>0.020375</td>\n",
              "      <td>0.046966</td>\n",
              "      <td>0.175726</td>\n",
              "      <td>-0.086618</td>\n",
              "      <td>0.116581</td>\n",
              "      <td>1.000000</td>\n",
              "      <td>0.135830</td>\n",
              "    </tr>\n",
              "    <tr>\n",
              "      <th>Number of Pages</th>\n",
              "      <td>0.103320</td>\n",
              "      <td>0.157067</td>\n",
              "      <td>0.019510</td>\n",
              "      <td>0.097320</td>\n",
              "      <td>0.253979</td>\n",
              "      <td>0.204742</td>\n",
              "      <td>0.502521</td>\n",
              "      <td>0.135830</td>\n",
              "      <td>1.000000</td>\n",
              "    </tr>\n",
              "  </tbody>\n",
              "</table>\n",
              "</div>"
            ],
            "text/plain": [
              "                          Citation count  ...  Number of Pages\n",
              "Citation count                  1.000000  ...         0.103320\n",
              "Number of authors               0.069732  ...         0.157067\n",
              "First Author Position          -0.026024  ...         0.019510\n",
              "Number of title words          -0.024094  ...         0.097320\n",
              "Number of abstract words        0.010751  ...         0.253979\n",
              "Journal                         0.196305  ...         0.204742\n",
              "Cited Reference Count           0.258497  ...         0.502521\n",
              "Publication Year               -0.236374  ...         0.135830\n",
              "Number of Pages                 0.103320  ...         1.000000\n",
              "\n",
              "[9 rows x 9 columns]"
            ]
          },
          "metadata": {
            "tags": []
          },
          "execution_count": 246
        }
      ]
    },
    {
      "cell_type": "code",
      "metadata": {
        "colab": {
          "base_uri": "https://localhost:8080/",
          "height": 706
        },
        "id": "yuQBM4NktXfw",
        "outputId": "7ab35372-e2e1-4b62-808c-440f27607e1b"
      },
      "source": [
        "import seaborn as sns   \n",
        "sns.set_style('darkgrid')\n",
        "sns.distplot(Xex)\n",
        "sns.scatterplot(data=allvar, x=\"Publication Year\", y=\"Number of authors\")\n",
        "X1"
      ],
      "execution_count": null,
      "outputs": [
        {
          "output_type": "stream",
          "text": [
            "/usr/local/lib/python3.7/dist-packages/seaborn/distributions.py:2557: FutureWarning: `distplot` is a deprecated function and will be removed in a future version. Please adapt your code to use either `displot` (a figure-level function with similar flexibility) or `histplot` (an axes-level function for histograms).\n",
            "  warnings.warn(msg, FutureWarning)\n"
          ],
          "name": "stderr"
        },
        {
          "output_type": "execute_result",
          "data": {
            "text/html": [
              "<div>\n",
              "<style scoped>\n",
              "    .dataframe tbody tr th:only-of-type {\n",
              "        vertical-align: middle;\n",
              "    }\n",
              "\n",
              "    .dataframe tbody tr th {\n",
              "        vertical-align: top;\n",
              "    }\n",
              "\n",
              "    .dataframe thead th {\n",
              "        text-align: right;\n",
              "    }\n",
              "</style>\n",
              "<table border=\"1\" class=\"dataframe\">\n",
              "  <thead>\n",
              "    <tr style=\"text-align: right;\">\n",
              "      <th></th>\n",
              "      <th>Number of authors</th>\n",
              "    </tr>\n",
              "  </thead>\n",
              "  <tbody>\n",
              "    <tr>\n",
              "      <th>0</th>\n",
              "      <td>3</td>\n",
              "    </tr>\n",
              "    <tr>\n",
              "      <th>1</th>\n",
              "      <td>4</td>\n",
              "    </tr>\n",
              "    <tr>\n",
              "      <th>2</th>\n",
              "      <td>7</td>\n",
              "    </tr>\n",
              "    <tr>\n",
              "      <th>3</th>\n",
              "      <td>3</td>\n",
              "    </tr>\n",
              "    <tr>\n",
              "      <th>4</th>\n",
              "      <td>4</td>\n",
              "    </tr>\n",
              "    <tr>\n",
              "      <th>...</th>\n",
              "      <td>...</td>\n",
              "    </tr>\n",
              "    <tr>\n",
              "      <th>3095</th>\n",
              "      <td>4</td>\n",
              "    </tr>\n",
              "    <tr>\n",
              "      <th>3096</th>\n",
              "      <td>2</td>\n",
              "    </tr>\n",
              "    <tr>\n",
              "      <th>3097</th>\n",
              "      <td>3</td>\n",
              "    </tr>\n",
              "    <tr>\n",
              "      <th>3098</th>\n",
              "      <td>3</td>\n",
              "    </tr>\n",
              "    <tr>\n",
              "      <th>3099</th>\n",
              "      <td>3</td>\n",
              "    </tr>\n",
              "  </tbody>\n",
              "</table>\n",
              "<p>3100 rows × 1 columns</p>\n",
              "</div>"
            ],
            "text/plain": [
              "      Number of authors\n",
              "0                     3\n",
              "1                     4\n",
              "2                     7\n",
              "3                     3\n",
              "4                     4\n",
              "...                 ...\n",
              "3095                  4\n",
              "3096                  2\n",
              "3097                  3\n",
              "3098                  3\n",
              "3099                  3\n",
              "\n",
              "[3100 rows x 1 columns]"
            ]
          },
          "metadata": {
            "tags": []
          },
          "execution_count": 99
        },
        {
          "output_type": "display_data",
          "data": {
            "image/png": "[encoded data removed]",
            "text/plain": [
              "<Figure size 432x288 with 1 Axes>"
            ]
          },
          "metadata": {
            "tags": []
          }
        }
      ]
    },
    {
      "cell_type": "code",
      "metadata": {
        "colab": {
          "base_uri": "https://localhost:8080/",
          "height": 333
        },
        "id": "4UNUPWdCucsA",
        "outputId": "c9ff9e05-27f7-4eeb-df80-9e3847104cab"
      },
      "source": [
        "#First Author Position\n",
        "sns.distplot(X2)"
      ],
      "execution_count": null,
      "outputs": [
        {
          "output_type": "stream",
          "text": [
            "/usr/local/lib/python3.7/dist-packages/seaborn/distributions.py:2557: FutureWarning: `distplot` is a deprecated function and will be removed in a future version. Please adapt your code to use either `displot` (a figure-level function with similar flexibility) or `histplot` (an axes-level function for histograms).\n",
            "  warnings.warn(msg, FutureWarning)\n"
          ],
          "name": "stderr"
        },
        {
          "output_type": "execute_result",
          "data": {
            "text/plain": [
              "<matplotlib.axes._subplots.AxesSubplot at 0x7fafcd2ca590>"
            ]
          },
          "metadata": {
            "tags": []
          },
          "execution_count": 100
        },
        {
          "output_type": "display_data",
          "data": {
            "image/png": "[encoded data removed]",
            "text/plain": [
              "<Figure size 432x288 with 1 Axes>"
            ]
          },
          "metadata": {
            "tags": []
          }
        }
      ]
    },
    {
      "cell_type": "code",
      "metadata": {
        "colab": {
          "base_uri": "https://localhost:8080/",
          "height": 333
        },
        "id": "-qPWSiBUuojN",
        "outputId": "9d342179-2605-4253-a138-b664d26d41d6"
      },
      "source": [
        "#Number of title words\n",
        "sns.distplot(X3)"
      ],
      "execution_count": null,
      "outputs": [
        {
          "output_type": "stream",
          "text": [
            "/usr/local/lib/python3.7/dist-packages/seaborn/distributions.py:2557: FutureWarning: `distplot` is a deprecated function and will be removed in a future version. Please adapt your code to use either `displot` (a figure-level function with similar flexibility) or `histplot` (an axes-level function for histograms).\n",
            "  warnings.warn(msg, FutureWarning)\n"
          ],
          "name": "stderr"
        },
        {
          "output_type": "execute_result",
          "data": {
            "text/plain": [
              "<matplotlib.axes._subplots.AxesSubplot at 0x7fafb0a1f150>"
            ]
          },
          "metadata": {
            "tags": []
          },
          "execution_count": 101
        },
        {
          "output_type": "display_data",
          "data": {
            "image/png": "[encoded data removed]",
            "text/plain": [
              "<Figure size 432x288 with 1 Axes>"
            ]
          },
          "metadata": {
            "tags": []
          }
        }
      ]
    },
    {
      "cell_type": "code",
      "metadata": {
        "colab": {
          "base_uri": "https://localhost:8080/",
          "height": 333
        },
        "id": "BdI5w7rRurtu",
        "outputId": "f58391af-3783-4d64-fbfb-eb3dd9712155"
      },
      "source": [
        "#Number of abstract words\n",
        "sns.distplot(X4)"
      ],
      "execution_count": null,
      "outputs": [
        {
          "output_type": "stream",
          "text": [
            "/usr/local/lib/python3.7/dist-packages/seaborn/distributions.py:2557: FutureWarning: `distplot` is a deprecated function and will be removed in a future version. Please adapt your code to use either `displot` (a figure-level function with similar flexibility) or `histplot` (an axes-level function for histograms).\n",
            "  warnings.warn(msg, FutureWarning)\n"
          ],
          "name": "stderr"
        },
        {
          "output_type": "execute_result",
          "data": {
            "text/plain": [
              "<matplotlib.axes._subplots.AxesSubplot at 0x7fafb2bc0510>"
            ]
          },
          "metadata": {
            "tags": []
          },
          "execution_count": 102
        },
        {
          "output_type": "display_data",
          "data": {
            "image/png": "[encoded data removed]",
            "text/plain": [
              "<Figure size 432x288 with 1 Axes>"
            ]
          },
          "metadata": {
            "tags": []
          }
        }
      ]
    },
    {
      "cell_type": "code",
      "metadata": {
        "colab": {
          "base_uri": "https://localhost:8080/",
          "height": 335
        },
        "id": "LlsMxxt4utwc",
        "outputId": "c72e9922-5cd4-4c08-fe0f-49463e2e574c"
      },
      "source": [
        "#Journal\n",
        "sns.distplot(X5)"
      ],
      "execution_count": null,
      "outputs": [
        {
          "output_type": "stream",
          "text": [
            "/usr/local/lib/python3.7/dist-packages/seaborn/distributions.py:2557: FutureWarning: `distplot` is a deprecated function and will be removed in a future version. Please adapt your code to use either `displot` (a figure-level function with similar flexibility) or `histplot` (an axes-level function for histograms).\n",
            "  warnings.warn(msg, FutureWarning)\n"
          ],
          "name": "stderr"
        },
        {
          "output_type": "execute_result",
          "data": {
            "text/plain": [
              "<matplotlib.axes._subplots.AxesSubplot at 0x7fafb2a53690>"
            ]
          },
          "metadata": {
            "tags": []
          },
          "execution_count": 103
        },
        {
          "output_type": "display_data",
          "data": {
            "image/png": "[encoded data removed]",
            "text/plain": [
              "<Figure size 432x288 with 1 Axes>"
            ]
          },
          "metadata": {
            "tags": []
          }
        }
      ]
    },
    {
      "cell_type": "code",
      "metadata": {
        "colab": {
          "base_uri": "https://localhost:8080/",
          "height": 333
        },
        "id": "gfbXxoQxuviY",
        "outputId": "d5235079-e090-4f00-b172-4ed5fd4c17e6"
      },
      "source": [
        "#Cited Reference Count\n",
        "sns.distplot(X6)"
      ],
      "execution_count": null,
      "outputs": [
        {
          "output_type": "stream",
          "text": [
            "/usr/local/lib/python3.7/dist-packages/seaborn/distributions.py:2557: FutureWarning: `distplot` is a deprecated function and will be removed in a future version. Please adapt your code to use either `displot` (a figure-level function with similar flexibility) or `histplot` (an axes-level function for histograms).\n",
            "  warnings.warn(msg, FutureWarning)\n"
          ],
          "name": "stderr"
        },
        {
          "output_type": "execute_result",
          "data": {
            "text/plain": [
              "<matplotlib.axes._subplots.AxesSubplot at 0x7fafb29ed7d0>"
            ]
          },
          "metadata": {
            "tags": []
          },
          "execution_count": 104
        },
        {
          "output_type": "display_data",
          "data": {
            "image/png": "[encoded data removed]",
            "text/plain": [
              "<Figure size 432x288 with 1 Axes>"
            ]
          },
          "metadata": {
            "tags": []
          }
        }
      ]
    },
    {
      "cell_type": "code",
      "metadata": {
        "colab": {
          "base_uri": "https://localhost:8080/",
          "height": 333
        },
        "id": "0SaAxNHzuxpr",
        "outputId": "6f189e39-ae71-421b-9e6e-b96c970600b9"
      },
      "source": [
        "#Publication Year\n",
        "sns.distplot(X7)"
      ],
      "execution_count": null,
      "outputs": [
        {
          "output_type": "stream",
          "text": [
            "/usr/local/lib/python3.7/dist-packages/seaborn/distributions.py:2557: FutureWarning: `distplot` is a deprecated function and will be removed in a future version. Please adapt your code to use either `displot` (a figure-level function with similar flexibility) or `histplot` (an axes-level function for histograms).\n",
            "  warnings.warn(msg, FutureWarning)\n"
          ],
          "name": "stderr"
        },
        {
          "output_type": "execute_result",
          "data": {
            "text/plain": [
              "<matplotlib.axes._subplots.AxesSubplot at 0x7fafb28ba9d0>"
            ]
          },
          "metadata": {
            "tags": []
          },
          "execution_count": 105
        },
        {
          "output_type": "display_data",
          "data": {
            "image/png": "[encoded data removed]",
            "text/plain": [
              "<Figure size 432x288 with 1 Axes>"
            ]
          },
          "metadata": {
            "tags": []
          }
        }
      ]
    },
    {
      "cell_type": "code",
      "metadata": {
        "colab": {
          "base_uri": "https://localhost:8080/",
          "height": 351
        },
        "id": "Pt-TJtasuzsJ",
        "outputId": "33e6671d-8623-433b-a69d-920608b9e2fb"
      },
      "source": [
        "#Special Issue\n",
        "sns.distplot(X8)"
      ],
      "execution_count": null,
      "outputs": [
        {
          "output_type": "stream",
          "text": [
            "/usr/local/lib/python3.7/dist-packages/seaborn/distributions.py:2557: FutureWarning: `distplot` is a deprecated function and will be removed in a future version. Please adapt your code to use either `displot` (a figure-level function with similar flexibility) or `histplot` (an axes-level function for histograms).\n",
            "  warnings.warn(msg, FutureWarning)\n"
          ],
          "name": "stderr"
        },
        {
          "output_type": "execute_result",
          "data": {
            "text/plain": [
              "<matplotlib.axes._subplots.AxesSubplot at 0x7fafb28ab810>"
            ]
          },
          "metadata": {
            "tags": []
          },
          "execution_count": 106
        },
        {
          "output_type": "display_data",
          "data": {
            "image/png": "[encoded data removed]",
            "text/plain": [
              "<Figure size 432x288 with 1 Axes>"
            ]
          },
          "metadata": {
            "tags": []
          }
        }
      ]
    },
    {
      "cell_type": "code",
      "metadata": {
        "colab": {
          "base_uri": "https://localhost:8080/",
          "height": 335
        },
        "id": "sIhtnDxPu1V_",
        "outputId": "247045f7-1366-455f-fbdd-608e50a3b736"
      },
      "source": [
        "#Number of Pages\n",
        "sns.distplot(X9)"
      ],
      "execution_count": null,
      "outputs": [
        {
          "output_type": "stream",
          "text": [
            "/usr/local/lib/python3.7/dist-packages/seaborn/distributions.py:2557: FutureWarning: `distplot` is a deprecated function and will be removed in a future version. Please adapt your code to use either `displot` (a figure-level function with similar flexibility) or `histplot` (an axes-level function for histograms).\n",
            "  warnings.warn(msg, FutureWarning)\n"
          ],
          "name": "stderr"
        },
        {
          "output_type": "execute_result",
          "data": {
            "text/plain": [
              "<matplotlib.axes._subplots.AxesSubplot at 0x7fafb38d2250>"
            ]
          },
          "metadata": {
            "tags": []
          },
          "execution_count": 107
        },
        {
          "output_type": "display_data",
          "data": {
            "image/png": "[encoded data removed]",
            "text/plain": [
              "<Figure size 432x288 with 1 Axes>"
            ]
          },
          "metadata": {
            "tags": []
          }
        }
      ]
    },
    {
      "cell_type": "code",
      "metadata": {
        "colab": {
          "base_uri": "https://localhost:8080/",
          "height": 333
        },
        "id": "QkpAj9aeu3o_",
        "outputId": "ea640ad8-6b2f-4ccc-d89b-a933258315ea"
      },
      "source": [
        "#Citation count\n",
        "sns.distplot(Y)"
      ],
      "execution_count": null,
      "outputs": [
        {
          "output_type": "stream",
          "text": [
            "/usr/local/lib/python3.7/dist-packages/seaborn/distributions.py:2557: FutureWarning: `distplot` is a deprecated function and will be removed in a future version. Please adapt your code to use either `displot` (a figure-level function with similar flexibility) or `histplot` (an axes-level function for histograms).\n",
            "  warnings.warn(msg, FutureWarning)\n"
          ],
          "name": "stderr"
        },
        {
          "output_type": "execute_result",
          "data": {
            "text/plain": [
              "<matplotlib.axes._subplots.AxesSubplot at 0x7fafb2e39ed0>"
            ]
          },
          "metadata": {
            "tags": []
          },
          "execution_count": 108
        },
        {
          "output_type": "display_data",
          "data": {
            "image/png": "[encoded data removed]",
            "text/plain": [
              "<Figure size 432x288 with 1 Axes>"
            ]
          },
          "metadata": {
            "tags": []
          }
        }
      ]
    },
    {
      "cell_type": "markdown",
      "metadata": {
        "id": "nA_PAFySY_n5"
      },
      "source": [
        "# Predição por Regressão Linear Multivariada"
      ]
    },
    {
      "cell_type": "code",
      "metadata": {
        "id": "UPsfWBGqOSdj"
      },
      "source": [
        "#separa as bases de treinamento e teste\n",
        "from sklearn.model_selection import train_test_split  \n",
        "x_train, x_test, y_train, y_test = train_test_split(X, Y, test_size=0.2, random_state = 1) #80% para treino e 20% para testes com amostra aleatória\n",
        "#x_train, x_test, y_train, y_test = train_test_split(X, Y, test_size=0.34, random_state = 1) #34% para testes com amostra dos anos de 2018 até 2021"
      ],
      "execution_count": null,
      "outputs": []
    },
    {
      "cell_type": "code",
      "metadata": {
        "colab": {
          "base_uri": "https://localhost:8080/"
        },
        "id": "sw9L1spjOZfq",
        "outputId": "48a58681-413f-492d-a9cd-f8fd41109fe2"
      },
      "source": [
        "#treina a base de dados\n",
        "from sklearn.linear_model import LinearRegression\n",
        "regressor = LinearRegression()\n",
        "regressor.fit(x_train, y_train)"
      ],
      "execution_count": null,
      "outputs": [
        {
          "output_type": "execute_result",
          "data": {
            "text/plain": [
              "LinearRegression(copy_X=True, fit_intercept=True, n_jobs=None, normalize=False)"
            ]
          },
          "metadata": {
            "tags": []
          },
          "execution_count": 266
        }
      ]
    },
    {
      "cell_type": "code",
      "metadata": {
        "id": "WOhdJaDqObLX",
        "colab": {
          "base_uri": "https://localhost:8080/"
        },
        "outputId": "2b239294-ea16-4d26-b285-3c4a70a3c77b"
      },
      "source": [
        "#imprime coeficiente e intercepto\n",
        "regressor.coef_, regressor.intercept_"
      ],
      "execution_count": null,
      "outputs": [
        {
          "output_type": "execute_result",
          "data": {
            "text/plain": [
              "(array([[ 8.13833606e-02,  4.12811714e-05, -1.45192502e-02,\n",
              "         -1.36064842e-03,  7.50202485e-03,  2.09894721e-02,\n",
              "         -2.78107086e-01, -4.72825963e-01,  2.77739273e-02]]),\n",
              " array([560.76318713]))"
            ]
          },
          "metadata": {
            "tags": []
          },
          "execution_count": 267
        }
      ]
    },
    {
      "cell_type": "code",
      "metadata": {
        "id": "OqDfUJM5OdzV"
      },
      "source": [
        "#testar o modelo predizendo valores a partir da base de testes\n",
        "y_pred = regressor.predict(x_test)\n",
        "#y_pred"
      ],
      "execution_count": null,
      "outputs": []
    },
    {
      "cell_type": "code",
      "metadata": {
        "id": "wPjN27nEOfkT",
        "colab": {
          "base_uri": "https://localhost:8080/"
        },
        "outputId": "fb96fe67-4659-4fa1-db2b-aac7c4f9bd53"
      },
      "source": [
        "#verifica a acurácia do modelo com o r2\n",
        "from sklearn.metrics import r2_score\n",
        "print(r2_score(y_test,y_pred))"
      ],
      "execution_count": null,
      "outputs": [
        {
          "output_type": "stream",
          "text": [
            "-0.0008155365639610501\n"
          ],
          "name": "stdout"
        }
      ]
    },
    {
      "cell_type": "code",
      "metadata": {
        "colab": {
          "base_uri": "https://localhost:8080/"
        },
        "id": "abcWYoKu-U0E",
        "outputId": "0f79f329-ed34-4e91-cfe7-06b5b7efafee"
      },
      "source": [
        "#verifica o score de variância\n",
        "from sklearn.metrics import explained_variance_score\n",
        "print(explained_variance_score(y_test, y_pred))"
      ],
      "execution_count": null,
      "outputs": [
        {
          "output_type": "stream",
          "text": [
            "0.0018274703460295916\n"
          ],
          "name": "stdout"
        }
      ]
    },
    {
      "cell_type": "markdown",
      "metadata": {
        "id": "JkjxYQdiEDFX"
      },
      "source": [
        "#Predição por Regressão Polinomial"
      ]
    },
    {
      "cell_type": "code",
      "metadata": {
        "id": "7hagfJZGd-vZ"
      },
      "source": [
        "#separa as bases de treinamento e teste\n",
        "from sklearn.model_selection import train_test_split  \n",
        "x_train, x_test, y_train, y_test = train_test_split(X, Y, test_size=0.2, random_state = 1) #80% para treino e 20% para testes com amostra aleatória"
      ],
      "execution_count": null,
      "outputs": []
    },
    {
      "cell_type": "code",
      "metadata": {
        "id": "MLrw5ug6ELCS"
      },
      "source": [
        "#transforma os valores em função polinomial h(θ)=θ0 + θ1X^1 + θ2X^2 + θ3X^3 .... e treina o modelo\n",
        "from sklearn.preprocessing import PolynomialFeatures\n",
        "poly = PolynomialFeatures(degree = 2)\n",
        "\n",
        "from sklearn.linear_model import LinearRegression\n",
        "regressor = LinearRegression()\n",
        "\n",
        "x_poly = poly.fit_transform(x_train)\n",
        "#x_poly"
      ],
      "execution_count": null,
      "outputs": []
    },
    {
      "cell_type": "code",
      "metadata": {
        "colab": {
          "base_uri": "https://localhost:8080/"
        },
        "id": "Ym6MEb1OFq5N",
        "outputId": "2d158190-6382-4677-f9b6-4ce3fc91029d"
      },
      "source": [
        "#imprime coeficiente e intercepto\n",
        "regressor.fit(x_poly, y_train)"
      ],
      "execution_count": null,
      "outputs": [
        {
          "output_type": "execute_result",
          "data": {
            "text/plain": [
              "LinearRegression(copy_X=True, fit_intercept=True, n_jobs=None, normalize=False)"
            ]
          },
          "metadata": {
            "tags": []
          },
          "execution_count": 32
        }
      ]
    },
    {
      "cell_type": "code",
      "metadata": {
        "id": "Ya22DgErGFeN"
      },
      "source": [
        "#testar o modelo predizendo valores a partir da base de testes\n",
        "x_test_poly = poly.fit_transform(x_test)\n",
        "y_pred = regressor.predict(x_test_poly)\n"
      ],
      "execution_count": null,
      "outputs": []
    },
    {
      "cell_type": "code",
      "metadata": {
        "colab": {
          "base_uri": "https://localhost:8080/"
        },
        "id": "63M7RUZ9JRTn",
        "outputId": "5553630e-529e-47c9-bdc8-c9adf4ed749b"
      },
      "source": [
        "#TODO: como avaliar acurácia da regressão polinomial? r2 não faz sentido já que não é uma reta. Não consegui descobrir.\n",
        "from sklearn.metrics import mean_squared_error, r2_score\n",
        "rmse = np.sqrt(mean_squared_error(y_test,y_pred))\n",
        "r2 = r2_score(y_test,y_pred)\n",
        "print(rmse)\n",
        "print(r2)"
      ],
      "execution_count": null,
      "outputs": [
        {
          "output_type": "stream",
          "text": [
            "9.137527048294922\n",
            "-3.1393780952712156\n"
          ],
          "name": "stdout"
        }
      ]
    },
    {
      "cell_type": "markdown",
      "metadata": {
        "id": "74TJmApQuIR0"
      },
      "source": [
        "#Predição com Regressão Logística"
      ]
    },
    {
      "cell_type": "code",
      "metadata": {
        "id": "NnB-E37UyQ0P"
      },
      "source": [
        "#recria X e Y (teste)\n",
        "X = Xex #pd.concat([X1,X2,X3,X4,X5,X6,X7,X8,X9], axis=1)\n",
        "Y = Yex\n"
      ],
      "execution_count": null,
      "outputs": []
    },
    {
      "cell_type": "code",
      "metadata": {
        "id": "u5OupFkBvLWQ"
      },
      "source": [
        "#separa as bases de treinamento e teste\n",
        "from sklearn.model_selection import train_test_split\n",
        "x_train, x_test, y_train, y_test = train_test_split(X, Q, test_size=0.2, random_state = 1) #20% para testes com amostra aleatória"
      ],
      "execution_count": null,
      "outputs": []
    },
    {
      "cell_type": "code",
      "metadata": {
        "id": "JAY4NR_HuZDm"
      },
      "source": [
        "#feature scalling\n",
        "from sklearn.preprocessing import StandardScaler\n",
        "sc = StandardScaler()\n",
        "x_train = sc.fit_transform(x_train)\n",
        "x_test = sc.transform(x_test)"
      ],
      "execution_count": null,
      "outputs": []
    },
    {
      "cell_type": "code",
      "metadata": {
        "id": "nkrOjq0ouiDf"
      },
      "source": [
        "#treina os dados para classificação com regressão logística\n",
        "from sklearn.linear_model import LogisticRegression\n",
        "logclassifier = LogisticRegression(random_state=0,max_iter=500)\n",
        "logclassifier.fit(x_train, y_train.ravel())#.values.ravel())\n",
        "y_pred_log = logclassifier.predict(x_test)"
      ],
      "execution_count": null,
      "outputs": []
    },
    {
      "cell_type": "code",
      "metadata": {
        "id": "tS-_5cn8umlp"
      },
      "source": [
        "#agora com SVM\n",
        "from sklearn.svm import SVC\n",
        "svmclassifier = SVC(kernel = 'rbf', random_state = 0)\n",
        "svmclassifier.fit(x_train, y_train.ravel())#.values.ravel())\n",
        "y_pred_svm = svmclassifier.predict(x_test)"
      ],
      "execution_count": null,
      "outputs": []
    },
    {
      "cell_type": "code",
      "metadata": {
        "id": "R7JdmUqluqB0"
      },
      "source": [
        "#matriz de confusão\n",
        "from sklearn.metrics import confusion_matrix\n",
        "cmlog = confusion_matrix(y_test, y_pred_log)\n",
        "\n",
        "from sklearn.metrics import confusion_matrix\n",
        "cmsvm = confusion_matrix(y_test, y_pred_svm)"
      ],
      "execution_count": null,
      "outputs": []
    },
    {
      "cell_type": "code",
      "metadata": {
        "id": "ZI-UAQVnus49",
        "colab": {
          "base_uri": "https://localhost:8080/"
        },
        "outputId": "7a10f81f-da76-4d72-9467-eae77336ba78"
      },
      "source": [
        "#acurácia com regressão logística/svm\n",
        "from sklearn.metrics import accuracy_score\n",
        "print(accuracy_score(y_test, y_pred_log))\n",
        "print(accuracy_score(y_test, y_pred_svm))"
      ],
      "execution_count": null,
      "outputs": [
        {
          "output_type": "stream",
          "text": [
            "0.6596774193548387\n",
            "0.6709677419354839\n"
          ],
          "name": "stdout"
        }
      ]
    },
    {
      "cell_type": "code",
      "metadata": {
        "colab": {
          "base_uri": "https://localhost:8080/"
        },
        "id": "YBbtCZl35jE_",
        "outputId": "6d45d59b-4d15-4a65-901d-32326b11651d"
      },
      "source": [
        "#recall com regressão logística/svm\n",
        "from sklearn.metrics import recall_score\n",
        "print(recall_score(y_test, y_pred_log, average=None))\n",
        "print(recall_score(y_test, y_pred_svm, average=None))"
      ],
      "execution_count": null,
      "outputs": [
        {
          "output_type": "stream",
          "text": [
            "[0.93414634 0.13       0.         0.        ]\n",
            "[0.96341463 0.105      0.         0.        ]\n"
          ],
          "name": "stdout"
        }
      ]
    },
    {
      "cell_type": "code",
      "metadata": {
        "colab": {
          "base_uri": "https://localhost:8080/"
        },
        "id": "Dfit-ir9Fy3f",
        "outputId": "d3db5b32-0df2-4ca9-d469-56ba8118fe94"
      },
      "source": [
        "#precisão com decision tree\n",
        "from sklearn.metrics import precision_score\n",
        "print(precision_score(y_test, y_pred_log, average=None))\n",
        "print(precision_score(y_test, y_pred_svm, average=None))"
      ],
      "execution_count": null,
      "outputs": [
        {
          "output_type": "stream",
          "text": [
            "[0.67787611 0.48148148 0.         0.        ]\n",
            "[0.68103448 0.525      0.         0.        ]\n"
          ],
          "name": "stdout"
        },
        {
          "output_type": "stream",
          "text": [
            "/usr/local/lib/python3.7/dist-packages/sklearn/metrics/_classification.py:1272: UndefinedMetricWarning: Precision is ill-defined and being set to 0.0 in labels with no predicted samples. Use `zero_division` parameter to control this behavior.\n",
            "  _warn_prf(average, modifier, msg_start, len(result))\n"
          ],
          "name": "stderr"
        }
      ]
    },
    {
      "cell_type": "code",
      "metadata": {
        "colab": {
          "base_uri": "https://localhost:8080/"
        },
        "id": "tFD0kaWFF-mi",
        "outputId": "91dd53c7-dc94-4607-b41d-2d31ce332714"
      },
      "source": [
        "#f-score com decision tree\n",
        "from sklearn.metrics import f1_score\n",
        "print(f1_score(y_test, y_pred_log, average=None))\n",
        "print(f1_score(y_test, y_pred_svm, average=None))"
      ],
      "execution_count": null,
      "outputs": [
        {
          "output_type": "stream",
          "text": [
            "[0.78564103 0.20472441 0.         0.        ]\n",
            "[0.7979798 0.175     0.        0.       ]\n"
          ],
          "name": "stdout"
        }
      ]
    },
    {
      "cell_type": "code",
      "metadata": {
        "colab": {
          "base_uri": "https://localhost:8080/"
        },
        "id": "FU1pa21GGWoZ",
        "outputId": "60218e74-effa-4184-d75f-950fd5965616"
      },
      "source": [
        "#faz relatório completo\n",
        "from sklearn.metrics import classification_report\n",
        "target_names = ['Q1', 'Q2', 'Q3', 'Q4']\n",
        "print(classification_report(y_test, y_pred_log, target_names=target_names))\n",
        "print(classification_report(y_test, y_pred_svm, target_names=target_names))"
      ],
      "execution_count": null,
      "outputs": [
        {
          "output_type": "stream",
          "text": [
            "              precision    recall  f1-score   support\n",
            "\n",
            "          Q1       0.68      0.93      0.79       410\n",
            "          Q2       0.48      0.13      0.20       200\n",
            "          Q3       0.00      0.00      0.00         9\n",
            "          Q4       0.00      0.00      0.00         1\n",
            "\n",
            "    accuracy                           0.66       620\n",
            "   macro avg       0.29      0.27      0.25       620\n",
            "weighted avg       0.60      0.66      0.59       620\n",
            "\n",
            "              precision    recall  f1-score   support\n",
            "\n",
            "          Q1       0.68      0.96      0.80       410\n",
            "          Q2       0.53      0.10      0.17       200\n",
            "          Q3       0.00      0.00      0.00         9\n",
            "          Q4       0.00      0.00      0.00         1\n",
            "\n",
            "    accuracy                           0.67       620\n",
            "   macro avg       0.30      0.27      0.24       620\n",
            "weighted avg       0.62      0.67      0.58       620\n",
            "\n"
          ],
          "name": "stdout"
        },
        {
          "output_type": "stream",
          "text": [
            "/usr/local/lib/python3.7/dist-packages/sklearn/metrics/_classification.py:1272: UndefinedMetricWarning: Precision and F-score are ill-defined and being set to 0.0 in labels with no predicted samples. Use `zero_division` parameter to control this behavior.\n",
            "  _warn_prf(average, modifier, msg_start, len(result))\n"
          ],
          "name": "stderr"
        }
      ]
    },
    {
      "cell_type": "code",
      "metadata": {
        "id": "_DbBdzMEF7W_"
      },
      "source": [
        ""
      ],
      "execution_count": null,
      "outputs": []
    },
    {
      "cell_type": "markdown",
      "metadata": {
        "id": "TgI83du0qmFM"
      },
      "source": [
        "#Predição com Decision Tree"
      ]
    },
    {
      "cell_type": "code",
      "metadata": {
        "id": "y1avdmm1tfOX"
      },
      "source": [
        "#pd.crosstab(index=allvar['Citation count'], columns='count', )\n",
        "#allvar.to_csv('/content/drive/MyDrive/PGCIN-UFSC/PCI410068 Machine Learning e Deep Learning/dados_predicao_exportados_colab_antes_dt.csv') "
      ],
      "execution_count": null,
      "outputs": []
    },
    {
      "cell_type": "code",
      "metadata": {
        "id": "rBO9ZQwn1bpw"
      },
      "source": [
        "#recria X e Y (teste)\n",
        "X = Xex\n",
        "#Xdt = pd.concat([X1,X2,X3,X4,X5,X6,X7,X8,X9], axis=1)\n",
        "Y = Yex.values"
      ],
      "execution_count": null,
      "outputs": []
    },
    {
      "cell_type": "code",
      "metadata": {
        "colab": {
          "base_uri": "https://localhost:8080/"
        },
        "id": "LoTAThC2q184",
        "outputId": "bbf77dbe-dc87-4486-f89c-dcffc8da077f"
      },
      "source": [
        "#separa as bases de treinamento e teste\n",
        "from sklearn.model_selection import train_test_split  \n",
        "x_train, x_test, y_train, y_test = train_test_split(X, Q, test_size=0.2, random_state = 1) #80% para treino e 20% para testes com amostra aleatória\n",
        "\n",
        "from sklearn.tree import DecisionTreeRegressor\n",
        "regressor = DecisionTreeRegressor(random_state = 1)\n",
        "regressor.fit(x_train,y_train)"
      ],
      "execution_count": null,
      "outputs": [
        {
          "output_type": "execute_result",
          "data": {
            "text/plain": [
              "DecisionTreeRegressor(ccp_alpha=0.0, criterion='mse', max_depth=None,\n",
              "                      max_features=None, max_leaf_nodes=None,\n",
              "                      min_impurity_decrease=0.0, min_impurity_split=None,\n",
              "                      min_samples_leaf=1, min_samples_split=2,\n",
              "                      min_weight_fraction_leaf=0.0, presort='deprecated',\n",
              "                      random_state=1, splitter='best')"
            ]
          },
          "metadata": {
            "tags": []
          },
          "execution_count": 212
        }
      ]
    },
    {
      "cell_type": "code",
      "metadata": {
        "colab": {
          "base_uri": "https://localhost:8080/"
        },
        "id": "MRX5wI0cq7D7",
        "outputId": "51a32192-656d-41ec-c26f-e7a464a96ca0"
      },
      "source": [
        "#qual será o valor para uma pessoa na posição 6.5?\n",
        "y_pred = regressor.predict(x_test)\n",
        "y_pred"
      ],
      "execution_count": null,
      "outputs": [
        {
          "output_type": "execute_result",
          "data": {
            "text/plain": [
              "array([1., 1., 2., 1., 1., 1., 1., 1., 1., 1., 1., 2., 1., 2., 1., 1., 1.,\n",
              "       1., 1., 1., 1., 1., 1., 1., 1., 1., 2., 2., 1., 2., 1., 2., 1., 2.,\n",
              "       2., 1., 1., 1., 1., 1., 1., 1., 1., 1., 2., 1., 1., 1., 1., 1., 1.,\n",
              "       2., 1., 1., 1., 1., 2., 1., 2., 1., 1., 1., 1., 1., 1., 2., 1., 2.,\n",
              "       1., 1., 1., 1., 2., 1., 1., 1., 2., 1., 2., 1., 1., 1., 1., 1., 1.,\n",
              "       1., 1., 1., 2., 1., 2., 2., 1., 2., 1., 2., 4., 1., 2., 2., 1., 1.,\n",
              "       2., 1., 2., 1., 1., 2., 2., 1., 1., 1., 2., 1., 1., 2., 1., 1., 1.,\n",
              "       1., 1., 1., 1., 2., 2., 1., 1., 1., 1., 1., 2., 2., 1., 1., 1., 1.,\n",
              "       1., 1., 1., 2., 2., 2., 1., 2., 2., 1., 2., 1., 2., 1., 1., 2., 2.,\n",
              "       2., 1., 1., 1., 1., 1., 1., 2., 1., 1., 1., 3., 2., 2., 1., 1., 1.,\n",
              "       1., 1., 1., 1., 1., 1., 1., 2., 1., 2., 2., 1., 1., 2., 2., 1., 2.,\n",
              "       1., 1., 1., 1., 1., 1., 2., 1., 2., 2., 2., 2., 1., 2., 1., 2., 1.,\n",
              "       2., 1., 2., 1., 1., 3., 1., 2., 1., 2., 2., 2., 2., 1., 1., 1., 1.,\n",
              "       2., 1., 2., 1., 2., 1., 1., 1., 1., 1., 2., 2., 2., 1., 1., 1., 1.,\n",
              "       2., 1., 2., 2., 2., 2., 1., 1., 1., 1., 1., 1., 2., 1., 2., 1., 2.,\n",
              "       1., 3., 1., 1., 1., 1., 1., 2., 2., 1., 1., 2., 2., 1., 1., 1., 2.,\n",
              "       2., 1., 1., 1., 1., 2., 1., 1., 2., 1., 1., 1., 2., 2., 1., 1., 2.,\n",
              "       1., 1., 2., 1., 2., 2., 2., 2., 2., 1., 1., 1., 2., 1., 1., 1., 1.,\n",
              "       1., 1., 2., 1., 1., 2., 2., 1., 3., 3., 2., 1., 2., 2., 1., 2., 2.,\n",
              "       2., 4., 1., 2., 2., 1., 2., 1., 2., 1., 1., 1., 1., 1., 2., 1., 1.,\n",
              "       1., 1., 1., 1., 1., 2., 1., 1., 1., 1., 1., 1., 1., 2., 1., 1., 2.,\n",
              "       2., 1., 1., 2., 2., 1., 2., 1., 2., 1., 2., 3., 2., 1., 1., 1., 2.,\n",
              "       2., 2., 1., 1., 1., 1., 1., 2., 2., 1., 1., 1., 2., 1., 1., 2., 1.,\n",
              "       2., 1., 4., 1., 1., 1., 1., 1., 1., 1., 2., 2., 2., 1., 1., 1., 2.,\n",
              "       2., 2., 2., 2., 1., 1., 1., 1., 1., 1., 2., 1., 1., 1., 1., 1., 2.,\n",
              "       2., 2., 1., 1., 1., 1., 2., 1., 1., 1., 1., 2., 1., 2., 2., 2., 2.,\n",
              "       1., 1., 2., 1., 2., 2., 1., 2., 1., 2., 1., 1., 1., 1., 1., 1., 3.,\n",
              "       1., 1., 1., 1., 2., 1., 1., 1., 1., 4., 2., 1., 3., 1., 1., 1., 2.,\n",
              "       2., 1., 3., 1., 1., 1., 1., 1., 1., 2., 2., 1., 1., 2., 1., 1., 1.,\n",
              "       1., 1., 2., 1., 1., 1., 1., 2., 1., 2., 2., 1., 1., 2., 2., 1., 2.,\n",
              "       1., 1., 2., 1., 1., 2., 1., 2., 2., 1., 2., 1., 1., 1., 1., 1., 2.,\n",
              "       1., 2., 2., 1., 1., 1., 1., 2., 1., 2., 1., 3., 2., 3., 1., 1., 1.,\n",
              "       1., 1., 2., 1., 1., 1., 1., 1., 2., 2., 1., 3., 1., 1., 1., 2., 1.,\n",
              "       1., 2., 1., 1., 1., 2., 2., 1., 1., 2., 1., 2., 1., 1., 2., 1., 1.,\n",
              "       1., 2., 1., 2., 1., 2., 1., 1., 2., 2., 2., 1., 1., 1., 1., 3., 1.,\n",
              "       3., 1., 3., 1., 1., 1., 1., 1., 1., 2., 2., 1., 2., 2., 1., 1., 1.,\n",
              "       3., 2., 1., 3., 1., 1., 2., 1.])"
            ]
          },
          "metadata": {
            "tags": []
          },
          "execution_count": 213
        }
      ]
    },
    {
      "cell_type": "code",
      "metadata": {
        "colab": {
          "base_uri": "https://localhost:8080/"
        },
        "id": "Y9S64iC0rnGC",
        "outputId": "d86c0887-97a0-446d-d4df-141bf349e156"
      },
      "source": [
        "#matriz de confusão\n",
        "from sklearn.metrics import confusion_matrix\n",
        "cmlog = confusion_matrix(y_test, y_pred)\n",
        "cmlog"
      ],
      "execution_count": null,
      "outputs": [
        {
          "output_type": "execute_result",
          "data": {
            "text/plain": [
              "array([[287, 114,   7,   2],\n",
              "       [108,  82,   8,   2],\n",
              "       [  2,   5,   2,   0],\n",
              "       [  0,   1,   0,   0]])"
            ]
          },
          "metadata": {
            "tags": []
          },
          "execution_count": 215
        }
      ]
    },
    {
      "cell_type": "code",
      "metadata": {
        "colab": {
          "base_uri": "https://localhost:8080/"
        },
        "id": "7TvwqCcl6L_c",
        "outputId": "ee6ef736-1719-4465-a35a-b5079d92aa57"
      },
      "source": [
        "#acurácia com decision tree\n",
        "from sklearn.metrics import accuracy_score\n",
        "accuracy_score(y_test, y_pred)"
      ],
      "execution_count": null,
      "outputs": [
        {
          "output_type": "execute_result",
          "data": {
            "text/plain": [
              "0.5983870967741935"
            ]
          },
          "metadata": {
            "tags": []
          },
          "execution_count": 216
        }
      ]
    },
    {
      "cell_type": "code",
      "metadata": {
        "colab": {
          "base_uri": "https://localhost:8080/"
        },
        "id": "t5uJd1XU8oGr",
        "outputId": "7bb03d86-de34-4c4c-d243-081cd714ae94"
      },
      "source": [
        "#recall com decision tree\n",
        "from sklearn.metrics import recall_score\n",
        "recall_score(y_test, y_pred, average=None)"
      ],
      "execution_count": null,
      "outputs": [
        {
          "output_type": "execute_result",
          "data": {
            "text/plain": [
              "array([0.7       , 0.41      , 0.22222222, 0.        ])"
            ]
          },
          "metadata": {
            "tags": []
          },
          "execution_count": 217
        }
      ]
    },
    {
      "cell_type": "code",
      "metadata": {
        "colab": {
          "base_uri": "https://localhost:8080/"
        },
        "id": "qSQ5agYb6dr2",
        "outputId": "8ecb66df-de52-4dde-b812-6b035cc95232"
      },
      "source": [
        "#precisão com decision tree\n",
        "from sklearn.metrics import precision_score\n",
        "precision_score(y_test, y_pred, average=None)"
      ],
      "execution_count": null,
      "outputs": [
        {
          "output_type": "execute_result",
          "data": {
            "text/plain": [
              "array([0.72292191, 0.40594059, 0.11764706, 0.        ])"
            ]
          },
          "metadata": {
            "tags": []
          },
          "execution_count": 218
        }
      ]
    },
    {
      "cell_type": "code",
      "metadata": {
        "colab": {
          "base_uri": "https://localhost:8080/"
        },
        "id": "-CsJQirDFGJ3",
        "outputId": "6551abe2-359b-4ba1-ff58-86e915f24e46"
      },
      "source": [
        "#f-score com decision tree\n",
        "from sklearn.metrics import f1_score\n",
        "f1_score(y_test, y_pred, average=None)"
      ],
      "execution_count": null,
      "outputs": [
        {
          "output_type": "execute_result",
          "data": {
            "text/plain": [
              "array([0.71127633, 0.4079602 , 0.15384615, 0.        ])"
            ]
          },
          "metadata": {
            "tags": []
          },
          "execution_count": 219
        }
      ]
    },
    {
      "cell_type": "code",
      "metadata": {
        "colab": {
          "base_uri": "https://localhost:8080/"
        },
        "id": "8m_ZQ6eiHyA5",
        "outputId": "1c404024-f602-4903-a980-2c46f5ae199a"
      },
      "source": [
        "#faz relatório completo\n",
        "from sklearn.metrics import classification_report\n",
        "target_names = ['Q1', 'Q2', 'Q3', 'Q4']\n",
        "print(classification_report(y_test, y_pred, target_names=target_names))"
      ],
      "execution_count": null,
      "outputs": [
        {
          "output_type": "stream",
          "text": [
            "              precision    recall  f1-score   support\n",
            "\n",
            "          Q1       0.72      0.70      0.71       410\n",
            "          Q2       0.41      0.41      0.41       200\n",
            "          Q3       0.12      0.22      0.15         9\n",
            "          Q4       0.00      0.00      0.00         1\n",
            "\n",
            "    accuracy                           0.60       620\n",
            "   macro avg       0.31      0.33      0.32       620\n",
            "weighted avg       0.61      0.60      0.60       620\n",
            "\n"
          ],
          "name": "stdout"
        }
      ]
    },
    {
      "cell_type": "code",
      "metadata": {
        "colab": {
          "base_uri": "https://localhost:8080/",
          "height": 796
        },
        "id": "3Mf8d7BbPtmx",
        "outputId": "12b2d19a-6dbc-4b59-9bf6-286f4fb9eca6"
      },
      "source": [
        "from sklearn import tree\n",
        "\n",
        "fnames = ['Number of authors','First Author Position','Number of title words', 'Number of abstract words', 'Journal', 'Cited Reference Count', 'Publication Year', 'Special Issue', 'Number of Pages']\n",
        "target_names = ['Q1', 'Q2', 'Q3', 'Q4']\n",
        "\n",
        "plt.figure(figsize=(12,12))\n",
        "tree.plot_tree(regressor, feature_names=fnames, class_names=target_names, filled=True, max_depth=1)\n",
        "\n",
        "#of = '/content/drive/MyDrive/PGCIN-UFSC/PCI410068 Machine Learning e Deep Learning/decistion_tree.png'\n",
        "#tree.export_graphviz(regressor, feature_names=fnames, class_names=target_names, filled=True, max_depth=3, out_file=of)\n",
        "\n",
        "#TODO: descobrir como exportar com tamanho legível"
      ],
      "execution_count": null,
      "outputs": [
        {
          "output_type": "execute_result",
          "data": {
            "text/plain": [
              "[Text(334.8, 543.6, 'Journal <= 68.5\\nmse = 0.293\\nsamples = 2480\\nvalue = 1.366'),\n",
              " Text(167.4, 326.16, 'Number of Pages <= 43.5\\nmse = 0.103\\nsamples = 506\\nvalue = 1.107'),\n",
              " Text(83.7, 108.72000000000003, '\\n  (...)  \\n'),\n",
              " Text(251.10000000000002, 108.72000000000003, '\\n  (...)  \\n'),\n",
              " Text(502.20000000000005, 326.16, 'Cited Reference Count <= 35.5\\nmse = 0.32\\nsamples = 1974\\nvalue = 1.432'),\n",
              " Text(418.5, 108.72000000000003, '\\n  (...)  \\n'),\n",
              " Text(585.9, 108.72000000000003, '\\n  (...)  \\n')]"
            ]
          },
          "metadata": {
            "tags": []
          },
          "execution_count": 242
        },
        {
          "output_type": "display_data",
          "data": {
            "image/png": "[encoded data removed]",
            "text/plain": [
              "<Figure size 864x864 with 1 Axes>"
            ]
          },
          "metadata": {
            "tags": []
          }
        }
      ]
    },
    {
      "cell_type": "markdown",
      "metadata": {
        "id": "CnFvUEmJHgwR"
      },
      "source": [
        "##Fim"
      ]
    }
  ]
}